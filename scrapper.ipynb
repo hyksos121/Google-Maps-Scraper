{
 "cells": [
  {
   "cell_type": "code",
   "execution_count": 1,
   "metadata": {},
   "outputs": [],
   "source": [
    "import selenium\n",
    "from selenium import webdriver\n",
    "from selenium.webdriver import Chrome as wdChrome, Firefox as wdFirefox, Edge as wdEdge\n",
    "from selenium.webdriver.common.by import By\n",
    "from selenium.webdriver.common.keys import Keys\n",
    "from selenium.webdriver.chrome.service import Service as ChromeService\n",
    "# from selenium.webdriver.edge.service import Service as EdgeService\n",
    "# from selenium.wAebdriver.firefox.service import Service as FirefoxService\n",
    "from selenium.webdriver.common.action_chains import ActionChains\n",
    "from selenium.webdriver.support.ui import WebDriverWait\n",
    "from selenium.webdriver.support import expected_conditions as EC\n",
    "import selenium.common.exceptions as selExcep \n",
    "from selenium.webdriver.chrome.options import Options\n",
    "from webdriver_manager.chrome import ChromeDriverManager\n",
    "# from webdriver_manager.firefox import GeckoDriverManager\n",
    "# from webdriver_manager.microsoft import EdgeChromiumDriverManager\n",
    "\n",
    "\n",
    "import pandas as pd\n",
    "import numpy as np\n",
    "import time"
   ]
  },
  {
   "cell_type": "code",
   "execution_count": 2,
   "metadata": {},
   "outputs": [],
   "source": [
    "gm_search_keywords = []\n",
    "with open(\"keywords.txt\") as keywords:\n",
    "    gm_search_keywords = [kw.rstrip() for kw in keywords]\n",
    "    \n",
    "# n = int(len(gm_search_keywords)/4)\n",
    "\n",
    "# #################\n",
    "#                 #\n",
    "# PARTITION = 0   #\n",
    "#                 #\n",
    "# #################\n",
    "\n",
    "# start = n * PARTITION\n",
    "# end = n * (PARTITION + 1)\n",
    "# gm_search_keywords = gm_search_keywords[start:end]"
   ]
  },
  {
   "cell_type": "code",
   "execution_count": 3,
   "metadata": {},
   "outputs": [],
   "source": [
    "home_url = 'https://www.google.com/maps/place/Lahore,+Punjab,+Pakistan/@74.1943055,31.4831569,11z/data=!3m1!4b1!4m5!3m4!1s0x39190483e58107d9:0xc23abe6ccc7e2462!8m2!3d31.5203696!4d74.3587473'\n",
    "\n",
    "options = Options()\n",
    "options.add_argument(\"--window-size=1920,1080\")\n",
    "options.add_argument(\"--start-maximized\")\n",
    "options.add_argument(\"--headless\")\n",
    "\n",
    "service = ChromeService(executable_path = ChromeDriverManager().install())\n",
    "\n",
    "driver = wdChrome(service= service, options= options)\n",
    "\n",
    "driver.get(home_url)\n",
    "action = ActionChains(driver)\n",
    "\n",
    "time.sleep(1)"
   ]
  },
  {
   "cell_type": "code",
   "execution_count": 4,
   "metadata": {},
   "outputs": [],
   "source": [
    "# MAP_SEARCH_XPATH = '//*[@id=\"searchboxinput\"]'\n",
    "# LOCATION_BOX_XPATH = '//*[@id=\"QA0Szd\"]/div/div/div[1]/div[2]/div/div[1]/div/div/div[2]/div[1]'\n",
    "# LOC_BOX_CLASS = \"hfpxzc\""
   ]
  },
  {
   "cell_type": "code",
   "execution_count": 5,
   "metadata": {},
   "outputs": [],
   "source": [
    "LOC_NAME_XPATH = '//*[@id=\"QA0Szd\"]/div/div/div[1]/div[2]/div/div[1]/div/div/div[2]/div[1]/div[1]/div[1]/h1'\n",
    "LOC_RATING_XPATH = '//*[@id=\"QA0Szd\"]/div/div/div[1]/div[2]/div/div[1]/div/div/div[2]/div[1]/div[1]/div[2]/div/div[1]/div[2]/span[1]/span/span[1]'\n",
    "LOC_RATING_COUNT_XPATH = '//*[@id=\"QA0Szd\"]/div/div/div[1]/div[2]/div/div[1]/div/div/div[2]/div[1]/div[1]/div[2]/div/div[1]/div[2]/span[2]/span[1]/button'\n",
    "LOC_RATING_COUNT_XPATH_2 = '//*[@id=\"QA0Szd\"]/div/div/div[1]/div[2]/div/div[1]/div/div/div[2]/div[1]/div[1]/div[2]/div/div[1]/div[2]/span[2]/span[1]/span'"
   ]
  },
  {
   "cell_type": "code",
   "execution_count": 6,
   "metadata": {},
   "outputs": [],
   "source": [
    "# def search_map(query: str) -> None:\n",
    "#     map_searchbar = driver.find_element(By.XPATH, MAP_SEARCH_XPATH)\n",
    "#     map_searchbar.clear()\n",
    "#     map_searchbar.send_keys(query)\n",
    "#     map_searchbar.send_keys(Keys.RETURN)\n",
    "#     time.sleep(1)"
   ]
  },
  {
   "cell_type": "markdown",
   "metadata": {},
   "source": [
    "### Collecting hrefs from all locations in a radius"
   ]
  },
  {
   "cell_type": "code",
   "execution_count": 7,
   "metadata": {},
   "outputs": [],
   "source": [
    "# ## Covers all of lahore\n",
    "\n",
    "# start_lat= 31.283179\n",
    "# start_long= 74.080275\n",
    "\n",
    "# stop_lat = 31.671291\n",
    "# stop_long = 74.551132\n",
    "\n",
    "# lat_step = (stop_lat - start_lat) / 4\n",
    "# long_step = (stop_long - start_long) / 4\n",
    "\n",
    "# lat_dist = np.arange(start=start_lat, stop= stop_lat, step= lat_step, dtype= \"float32\")\n",
    "# long_dist = np.arange(start=start_long, stop= stop_long, step= long_step, dtype= \"float32\")\n",
    "\n",
    "# geo_loc_grid = np.transpose([np.tile(lat_dist, len(long_dist)), np.repeat(long_dist, len(lat_dist))])"
   ]
  },
  {
   "cell_type": "code",
   "execution_count": 8,
   "metadata": {},
   "outputs": [],
   "source": [
    "# hrefs_set = set()\n",
    "\n",
    "# last_href = None\n",
    "# find_all_elem = False\n",
    "\n",
    "\n",
    "# for query in gm_search_keywords:\n",
    "#     query = query.split('_')\n",
    "#     query = ' '.join(query) \n",
    "#     search_map(query)\n",
    "#     print(query)\n",
    "#     curr_url = driver.current_url\n",
    "#     template_url = curr_url.split(\"@\")[0]\n",
    "#     for loc in geo_loc_grid:\n",
    "#         lat = loc[0]\n",
    "#         long = loc[1]\n",
    "#         dynamic_url = f\"{template_url}@{lat},{long},13z/data=!3m1!4b1\"\n",
    "#         print(dynamic_url)\n",
    "#         driver.get(dynamic_url)\n",
    "#         time.sleep(1)\n",
    "#         refresh_timer = 10\n",
    "#         while not find_all_elem:\n",
    "#             try:\n",
    "#                 loc_div = driver.find_element(By.XPATH, LOCATION_BOX_XPATH)\n",
    "#                 action.move_to_element(loc_div).perform()\n",
    "#                 loc_boxes = driver.find_elements(By.CLASS_NAME, LOC_BOX_CLASS)\n",
    "#                 hrefs = [tuple([loc_box.get_attribute(\"href\"), query]) for loc_box in loc_boxes]\n",
    "#                 hrefs_set.update(hrefs)\n",
    "#                 loc_div.send_keys(Keys.END)\n",
    "#                 time.sleep(1)\n",
    "#             except selExcep.NoSuchElementException:\n",
    "#                 time.sleep(refresh_timer)\n",
    "#                 print(f\"Refresh: {refresh_timer}\")\n",
    "#                 refresh_timer += 5\n",
    "#                 driver.get(dynamic_url)\n",
    "\n",
    "\n",
    "#             if(last_href == None):\n",
    "#                 last_href = hrefs[-1]\n",
    "#                 continue\n",
    "            \n",
    "#             if(last_href == hrefs[-1]):\n",
    "#                 with open(\"href_tuples.txt\", 'a') as tuple_file:\n",
    "#                     for href in hrefs:\n",
    "#                         tuple_file.write(str(href) + '\\n')\n",
    "#                 find_all_elem = True\n",
    "#             else:\n",
    "#                 last_href = hrefs[-1]\n",
    "\n",
    "        \n",
    "#         find_all_elem = False\n",
    "#         time.sleep(1)\n",
    "#     time.sleep(2)\n",
    "    \n",
    "# len(hrefs_set)"
   ]
  },
  {
   "cell_type": "code",
   "execution_count": 9,
   "metadata": {},
   "outputs": [],
   "source": [
    "# len(hrefs_set)"
   ]
  },
  {
   "cell_type": "markdown",
   "metadata": {},
   "source": [
    "# Extracting data from href"
   ]
  },
  {
   "cell_type": "code",
   "execution_count": 10,
   "metadata": {},
   "outputs": [
    {
     "name": "stdout",
     "output_type": "stream",
     "text": [
      "18495\n"
     ]
    }
   ],
   "source": [
    "href_file_set = set()\n",
    "with open(\"href_tuples.txt\") as my_file:\n",
    "    parsing_file = True\n",
    "    while(parsing_file):\n",
    "        temp_string = my_file.readline()\n",
    "        if(len(temp_string) <= 0):\n",
    "            break\n",
    "        \n",
    "        # temp_string = temp_string.strip()\n",
    "        # temp_string = temp_string.replace(' ', '')\n",
    "\n",
    "        split_string = temp_string.split(',')\n",
    "\n",
    "        href = str(split_string[0][2:-1])\n",
    "        query = str(split_string[1][1:-2])\n",
    "        temp_tuple = tuple([href, query])\n",
    "        href_file_set.add(temp_tuple)\n",
    "print(len(href_file_set))"
   ]
  },
  {
   "cell_type": "code",
   "execution_count": 11,
   "metadata": {},
   "outputs": [],
   "source": [
    "df = pd.DataFrame()"
   ]
  },
  {
   "cell_type": "markdown",
   "metadata": {},
   "source": [
    "### getting data from each href"
   ]
  },
  {
   "cell_type": "code",
   "execution_count": 12,
   "metadata": {},
   "outputs": [],
   "source": [
    "loc_names = list()\n",
    "loc_ratings = list()\n",
    "latitudes = list()\n",
    "longitudes = list()\n",
    "total_ratings = list()\n",
    "query_list = list()"
   ]
  },
  {
   "cell_type": "markdown",
   "metadata": {},
   "source": [
    "### Getting infro from each href"
   ]
  },
  {
   "cell_type": "code",
   "execution_count": 13,
   "metadata": {},
   "outputs": [
    {
     "name": "stdout",
     "output_type": "stream",
     "text": [
      "8\n",
      "1 / 18495 -- Failures: 0\n",
      "4\n",
      "2 / 18495 -- Failures: 0\n",
      "25\n",
      "3 / 18495 -- Failures: 0\n",
      "81\n",
      "4 / 18495 -- Failures: 0\n"
     ]
    }
   ],
   "source": [
    "total_href_entries = len(href_file_set)\n",
    "mess_ups = list()\n",
    "while(len(href_file_set) > 0):\n",
    "    try:\n",
    "        o_href = href_file_set.pop()\n",
    "        href = o_href\n",
    "        lat, long = href[0].split(\"!3d\")[1].split(\"!4d\")\n",
    "        long = long.split(\"!\")[0]\n",
    "    except:\n",
    "        print(o_href)\n",
    "        mess_ups.append(o_href)\n",
    "        continue\n",
    "        \n",
    "    driver.get(href[0])\n",
    "    query_list.append(href[1])\n",
    "    time.sleep(1)\n",
    "    \n",
    "    check_load = True\n",
    "    refresh_time = 10\n",
    "    while(check_load):\n",
    "        try:\n",
    "            name = driver.find_element(By.XPATH, LOC_NAME_XPATH).text\n",
    "            check_load = False\n",
    "            \n",
    "        except selExcep.NoSuchElementException:\n",
    "            # Ip got blocked, Wait for some time and refresh\n",
    "            driver.close()\n",
    "            driver = wdChrome(service= service, options= options)\n",
    "            time.sleep(refresh_time)\n",
    "            driver.get(href[0])\n",
    "            time.sleep(1)\n",
    "            print(f\"Refresh time: {refresh_time}\")\n",
    "            refresh_time += 5\n",
    "    \n",
    "    try:\n",
    "        rating = driver.find_element(By.XPATH, LOC_RATING_XPATH).text\n",
    "        rating_count = driver.find_element(By.XPATH, LOC_RATING_COUNT_XPATH_2).text.split()[0]\n",
    "        rating_count = rating_count.replace(\",\", \"\")\n",
    "        rating_count = int(rating_count)\n",
    "        \n",
    "    except selExcep.NoSuchElementException:\n",
    "        rating = None\n",
    "        rating_count = None\n",
    "    \n",
    "    with open(\"data_file.txt\", \"a\", encoding='utf-8') as d_file:\n",
    "        temp_csv_str = f\"{name},{rating},{rating_count},{lat},{long},{query},{href[0]}\\n\"\n",
    "        # temp_csv_str = temp_csv_str.encode(\"utf-8\")\n",
    "        d_file.write(temp_csv_str)\n",
    "\n",
    "    loc_names.append(name)\n",
    "    loc_ratings.append(rating)\n",
    "    latitudes.append(lat)\n",
    "    longitudes.append(long)\n",
    "    total_ratings.append(rating_count)\n",
    "    print(f\"{len(loc_names)} / {total_href_entries} -- Failures: {len(mess_ups)}\")    \n",
    "    \n",
    "    time.sleep(1)"
   ]
  },
  {
   "cell_type": "code",
   "execution_count": null,
   "metadata": {},
   "outputs": [
    {
     "data": {
      "text/html": [
       "<div>\n",
       "<style scoped>\n",
       "    .dataframe tbody tr th:only-of-type {\n",
       "        vertical-align: middle;\n",
       "    }\n",
       "\n",
       "    .dataframe tbody tr th {\n",
       "        vertical-align: top;\n",
       "    }\n",
       "\n",
       "    .dataframe thead th {\n",
       "        text-align: right;\n",
       "    }\n",
       "</style>\n",
       "<table border=\"1\" class=\"dataframe\">\n",
       "  <thead>\n",
       "    <tr style=\"text-align: right;\">\n",
       "      <th></th>\n",
       "      <th>loc_name</th>\n",
       "      <th>loc_rating</th>\n",
       "      <th>total_rating</th>\n",
       "      <th>latitude</th>\n",
       "      <th>longitude</th>\n",
       "      <th>query</th>\n",
       "    </tr>\n",
       "  </thead>\n",
       "  <tbody>\n",
       "    <tr>\n",
       "      <th>0</th>\n",
       "      <td>MNB Tiger Gym - Ladies &amp; Gents</td>\n",
       "      <td>4.2</td>\n",
       "      <td>9</td>\n",
       "      <td>31.3005769</td>\n",
       "      <td>74.0659835</td>\n",
       "      <td>gym</td>\n",
       "    </tr>\n",
       "  </tbody>\n",
       "</table>\n",
       "</div>"
      ],
      "text/plain": [
       "                         loc_name loc_rating  total_rating    latitude  \\\n",
       "0  MNB Tiger Gym - Ladies & Gents        4.2             9  31.3005769   \n",
       "\n",
       "    longitude query  \n",
       "0  74.0659835   gym  "
      ]
     },
     "execution_count": 15,
     "metadata": {},
     "output_type": "execute_result"
    }
   ],
   "source": [
    "df[\"loc_name\"] = loc_names\n",
    "df[\"loc_rating\"] = loc_ratings\n",
    "df[\"total_rating\"] = total_ratings\n",
    "df[\"latitude\"] = latitudes\n",
    "df[\"longitude\"] = longitudes\n",
    "df[\"query\"] = query_list\n",
    "df"
   ]
  },
  {
   "cell_type": "code",
   "execution_count": null,
   "metadata": {},
   "outputs": [],
   "source": [
    "df.to_csv(f'final_set_V1.csv')"
   ]
  }
 ],
 "metadata": {
  "kernelspec": {
   "display_name": "Python 3.10.6 64-bit",
   "language": "python",
   "name": "python3"
  },
  "language_info": {
   "codemirror_mode": {
    "name": "ipython",
    "version": 3
   },
   "file_extension": ".py",
   "mimetype": "text/x-python",
   "name": "python",
   "nbconvert_exporter": "python",
   "pygments_lexer": "ipython3",
   "version": "3.10.2"
  },
  "orig_nbformat": 4,
  "vscode": {
   "interpreter": {
    "hash": "69e417cd3fe9c1c8a76c0f183d8ef3b4a421d52f84359c468d2405ce40a4aa72"
   }
  }
 },
 "nbformat": 4,
 "nbformat_minor": 2
}
