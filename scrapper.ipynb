{
 "cells": [
  {
   "cell_type": "code",
   "execution_count": 1,
   "metadata": {},
   "outputs": [],
   "source": [
    "import selenium\n",
    "from selenium import webdriver\n",
    "from selenium.webdriver import Chrome as wdChrome, Firefox as wdFirefox, Edge as wdEdge\n",
    "from selenium.webdriver.common.by import By\n",
    "from selenium.webdriver.common.keys import Keys\n",
    "from selenium.webdriver.chrome.service import Service as ChromeService\n",
    "from selenium.webdriver.edge.service import Service as EdgeService\n",
    "from selenium.webdriver.firefox.service import Service as FirefoxService\n",
    "from selenium.webdriver.common.action_chains import ActionChains\n",
    "from selenium.webdriver.support.ui import WebDriverWait\n",
    "from selenium.webdriver.support import expected_conditions as EC\n",
    "import selenium.common.exceptions as selExcep \n",
    "\n",
    "from webdriver_manager.chrome import ChromeDriverManager\n",
    "from webdriver_manager.firefox import GeckoDriverManager\n",
    "from webdriver_manager.microsoft import EdgeChromiumDriverManager\n",
    "\n",
    "import time"
   ]
  },
  {
   "cell_type": "code",
   "execution_count": 2,
   "metadata": {},
   "outputs": [],
   "source": [
    "home_url = 'https://www.google.com/maps/place/Lahore,+Punjab,+Pakistan/@31.4831569,74.1943055,11z/data=!3m1!4b1!4m5!3m4!1s0x39190483e58107d9:0xc23abe6ccc7e2462!8m2!3d31.5203696!4d74.3587473'\n",
    "driver_type = \"chrome\"\n",
    "service = ChromeService(executable_path = ChromeDriverManager().install())\n",
    "driver = wdChrome(service= service)\n",
    "driver.get(home_url)\n",
    "action = ActionChains(driver)\n",
    "time.sleep(1)"
   ]
  },
  {
   "cell_type": "code",
   "execution_count": 3,
   "metadata": {},
   "outputs": [],
   "source": [
    "MAP_SEARCH_XPATH = '//*[@id=\"searchboxinput\"]'\n",
    "LOCATION_BOX_XPATH = '//*[@id=\"QA0Szd\"]/div/div/div[1]/div[2]/div/div[1]/div/div/div[2]/div[1]'\n",
    "\n",
    "LOC_BOX_CLASS = \"hfpxzc\""
   ]
  },
  {
   "cell_type": "code",
   "execution_count": 4,
   "metadata": {},
   "outputs": [],
   "source": [
    "def search_map(query: str) -> None:\n",
    "    map_searchbar = driver.find_element(By.XPATH, MAP_SEARCH_XPATH)\n",
    "    map_searchbar.clear()\n",
    "    map_searchbar.send_keys(query)\n",
    "    map_searchbar.send_keys(Keys.RETURN)"
   ]
  },
  {
   "cell_type": "code",
   "execution_count": 5,
   "metadata": {},
   "outputs": [],
   "source": [
    "search_map(\"Businesses\")\n",
    "time.sleep(5)"
   ]
  },
  {
   "cell_type": "code",
   "execution_count": 6,
   "metadata": {},
   "outputs": [],
   "source": [
    "loc_box = driver.find_element(By.XPATH, LOCATION_BOX_XPATH)\n",
    "action.move_to_element(loc_box).perform()"
   ]
  },
  {
   "cell_type": "code",
   "execution_count": 8,
   "metadata": {},
   "outputs": [],
   "source": [
    "loc_div = driver.find_element(By.XPATH, LOCATION_BOX_XPATH)\n",
    "action.move_to_element(loc_div).perform()\n",
    "hrefs_set = set()\n",
    "\n",
    "\n",
    "last_href = None\n",
    "find_elem = False\n",
    "while not find_elem:\n",
    "    \n",
    "    loc_boxes = driver.find_elements(By.CLASS_NAME, LOC_BOX_CLASS)\n",
    "    hrefs = [loc_box.get_attribute(\"href\") for loc_box in loc_boxes]\n",
    "    hrefs_set.update(hrefs)\n",
    "    loc_div.send_keys(Keys.END)\n",
    "    time.sleep(2)\n",
    "    \n",
    "    if(last_href == None):\n",
    "        last_href = hrefs[-1]\n",
    "        continue\n",
    "    \n",
    "    if(last_href == hrefs[-1]):\n",
    "        find_elem = True\n",
    "    else:\n",
    "        last_href = hrefs[-1]"
   ]
  },
  {
   "cell_type": "code",
   "execution_count": 15,
   "metadata": {},
   "outputs": [
    {
     "data": {
      "text/plain": [
       "{'https://www.google.com/maps/place/2+Zee+Business+Solution/data=!4m7!3m6!1s0x391904545ae7e845:0xea085caa9523dbe!8m2!3d31.5163115!4d74.3551786!16s%2Fg%2F11cmqpfp0r!19sChIJRejnWlQEGTkRvj1SqcqFoA4?authuser=0&hl=en&rclk=1',\n",
       " 'https://www.google.com/maps/place/2+Zee+Business+Solutions+(ezeeprintpk)/data=!4m7!3m6!1s0x391903c4966f1167:0x9ebf096315ab99e0!8m2!3d31.4797325!4d74.3011091!16s%2Fg%2F11fxvxt8qt!19sChIJZxFvlsQDGTkR4JmrFWMJv54?authuser=0&hl=en&rclk=1',\n",
       " 'https://www.google.com/maps/place/3-E+Business+Solutions/data=!4m7!3m6!1s0x391904070bc4f903:0x3b37ce2871f07e90!8m2!3d31.4783011!4d74.3134868!16s%2Fg%2F1x5f8rhn!19sChIJA_nECwcEGTkRkH7wcSjONzs?authuser=0&hl=en&rclk=1',\n",
       " 'https://www.google.com/maps/place/A+1+BUSINESS+MASTER/data=!4m7!3m6!1s0x3919012148f54725:0xfb6883b54e116846!8m2!3d31.4541046!4d74.3095786!16s%2Fg%2F11ktmtb71d!19sChIJJUf1SCEBGTkRRmgRTrWDaPs?authuser=0&hl=en&rclk=1',\n",
       " 'https://www.google.com/maps/place/ABS+(Acme+Business+Services)/data=!4m7!3m6!1s0x3919015dfdc25dd1:0xae78c4c83bf4ce4!8m2!3d31.466971!4d74.3070896!16s%2Fg%2F11lszh0th8!19sChIJ0V3C_V0BGTkR5Ey_g0yM5wo?authuser=0&hl=en&rclk=1',\n",
       " 'https://www.google.com/maps/place/AH+Business+Consultants/data=!4m7!3m6!1s0x391905d437f26961:0x50e0549a2b4d89d6!8m2!3d31.5081401!4d74.3447706!16s%2Fg%2F11hxvr8bqf!19sChIJYWnyN9QFGTkR1olNK5pU4FA?authuser=0&hl=en&rclk=1',\n",
       " 'https://www.google.com/maps/place/AK+Business+Consultants/data=!4m7!3m6!1s0x39190705751a77ed:0x61d3713179317667!8m2!3d31.4386941!4d74.347132!16s%2Fg%2F11pz68pzvq!19sChIJ7XcadQUHGTkRZ3YxeTFx02E?authuser=0&hl=en&rclk=1',\n",
       " 'https://www.google.com/maps/place/APEX+BUSINESS+SOLUTION/data=!4m7!3m6!1s0x3919053f98ecda1b:0xfd5dee45bc2bea1c!8m2!3d31.5339974!4d74.346005!16s%2Fg%2F11rc8yk1wp!19sChIJG9rsmD8FGTkRHOorvEXuXf0?authuser=0&hl=en&rclk=1',\n",
       " 'https://www.google.com/maps/place/ATC+Business+Club/data=!4m7!3m6!1s0x391903d4155cd82b:0xd3cecb54de764e53!8m2!3d31.4700402!4d74.2774476!16s%2Fg%2F11ptqvxcdv!19sChIJK9hcFdQDGTkRU0523lTLztM?authuser=0&hl=en&rclk=1',\n",
       " 'https://www.google.com/maps/place/Abrar+Business+Center/data=!4m7!3m6!1s0x39190551f4c11b2b:0x6cbec48685ddb403!8m2!3d31.5190625!4d74.3194375!16s%2Fg%2F11j087ymms!19sChIJKxvB9FEFGTkRA7TdhYbEvmw?authuser=0&hl=en&rclk=1',\n",
       " 'https://www.google.com/maps/place/AdHash+Business+Consultancy+(Pvt)+Ltd/data=!4m7!3m6!1s0x391905aa3c0c523b:0xbe97522b12428cce!8m2!3d31.514489!4d74.3448326!16s%2Fg%2F11nms__gqn!19sChIJO1IMPKoFGTkRzoxCEitSl74?authuser=0&hl=en&rclk=1',\n",
       " 'https://www.google.com/maps/place/Adroit+Business+Solutions/data=!4m7!3m6!1s0x39190782b257c7ab:0x992b049b125ace40!8m2!3d31.4710492!4d74.3621712!16s%2Fg%2F11hqxj9hfm!19sChIJq8dXsoIHGTkRQM5aEpsEK5k?authuser=0&hl=en&rclk=1',\n",
       " 'https://www.google.com/maps/place/Ali+Business+Machines+(pvt)+(Lahore+office)/data=!4m7!3m6!1s0x391904f0b68d3da3:0xf8b679ae70cfc39d!8m2!3d31.5247397!4d74.3457683!16s%2Fg%2F1tftcqbc!19sChIJoz2NtvAEGTkRncPPcK55tvg?authuser=0&hl=en&rclk=1',\n",
       " 'https://www.google.com/maps/place/All+Pakistan+Business+Forum/data=!4m7!3m6!1s0x391905248c56b291:0xb82a4cfd742f92db!8m2!3d31.5052196!4d74.3233524!16s%2Fg%2F11qn614jg6!19sChIJkbJWjCQFGTkR25IvdP1MKrg?authuser=0&hl=en&rclk=1',\n",
       " 'https://www.google.com/maps/place/Automated+Business+Solutions+-+ABS/data=!4m7!3m6!1s0x39190512abdf7dab:0x5cb111a4e3205067!8m2!3d31.5438654!4d74.3219158!16s%2Fg%2F11hzc2cg2j!19sChIJq33fqxIFGTkRZ1Ag46QRsVw?authuser=0&hl=en&rclk=1',\n",
       " 'https://www.google.com/maps/place/Avise+Business+Solutions+PVT.LTD/data=!4m7!3m6!1s0x391903f7e6e4166b:0x29649fffec914ce2!8m2!3d31.482235!4d74.311336!16s%2Fg%2F11bxfj3rph!19sChIJaxbk5vcDGTkR4kyR7P-fZCk?authuser=0&hl=en&rclk=1',\n",
       " 'https://www.google.com/maps/place/Bedrock+Business+Outsourcing/data=!4m7!3m6!1s0x391904e72ecb9ce3:0x4e2ee4693d7fce0e!8m2!3d31.5398757!4d74.3526659!16s%2Fg%2F11gdtgnt_b!19sChIJ45zLLucEGTkRDs5_PWnkLk4?authuser=0&hl=en&rclk=1',\n",
       " 'https://www.google.com/maps/place/Best+Business+Solutions+Private+Limited+(%22BBS%22)/data=!4m7!3m6!1s0x391904ed063013f5:0x83ef71e3a9db30d0!8m2!3d31.5309666!4d74.3381383!16s%2Fg%2F11c5h3ybm5!19sChIJ9RMwBu0EGTkR0DDbqeNx74M?authuser=0&hl=en&rclk=1',\n",
       " 'https://www.google.com/maps/place/Big+Business+Work+-+Most+Informative+Business+news/data=!4m7!3m6!1s0x3919077ca0ff7565:0x4ec5d2d7583a059e!8m2!3d31.4708312!4d74.3242872!16s%2Fg%2F11j4jz6_8q!19sChIJZXX_oHwHGTkRngU6WNfSxU4?authuser=0&hl=en&rclk=1',\n",
       " 'https://www.google.com/maps/place/Bitbytes/data=!4m7!3m6!1s0x3919031d255c1fed:0xb38578007c10700!8m2!3d31.459713!4d74.2520937!16s%2Fg%2F11gm7vvksz!19sChIJ7R9cJR0DGTkRAAfBB4BXOAs?authuser=0&hl=en&rclk=1',\n",
       " 'https://www.google.com/maps/place/BizVee+Consultants+-+%231+Highest+Rated+Business+Consultant/data=!4m7!3m6!1s0x39190459a1ee3fe7:0x844beaf052f29304!8m2!3d31.5306093!4d74.3451231!16s%2Fg%2F11hbq93yt7!19sChIJ5z_uoVkEGTkRBJPyUvDqS4Q?authuser=0&hl=en&rclk=1',\n",
       " 'https://www.google.com/maps/place/Business+%26+Engineering+Trends+(BET)+Lahore+Office/data=!4m7!3m6!1s0x391904e042cc82e5:0x2383ae7db2177ea3!8m2!3d31.5408781!4d74.3565561!16s%2Fg%2F11dylvl4p8!19sChIJ5YLMQuAEGTkRo34Xsn2ugyM?authuser=0&hl=en&rclk=1',\n",
       " 'https://www.google.com/maps/place/Business+%26+Finance+Centre/data=!4m7!3m6!1s0x39190506921193d5:0x95a605bb0ed9f8c8!8m2!3d31.5520845!4d74.368608!16s%2Fg%2F11nmhtcg2t!19sChIJ1ZMRkgYFGTkRyPjZDrsFppU?authuser=0&hl=en&rclk=1',\n",
       " 'https://www.google.com/maps/place/Business+Accord/data=!4m7!3m6!1s0x3919052871bf2bad:0x3d9b583fd6abd38c!8m2!3d31.5264045!4d74.3485528!16s%2Fg%2F11h_7qhsz8!19sChIJrSu_cSgFGTkRjNOr1j9Ymz0?authuser=0&hl=en&rclk=1',\n",
       " 'https://www.google.com/maps/place/Business+Boosters/data=!4m7!3m6!1s0x39190335d675799d:0x75656af90c557cbc!8m2!3d31.5077453!4d74.2835409!16s%2Fg%2F11p16gxncy!19sChIJnXl11jUDGTkRvHxVDPlqZXU?authuser=0&hl=en&rclk=1',\n",
       " 'https://www.google.com/maps/place/Business+Business+my+Businees/data=!4m7!3m6!1s0x3919039118d2aa3d:0xa3eccdef772de89f!8m2!3d31.4803907!4d74.2909938!16s%2Fg%2F11rq87w0v9!19sChIJParSGJEDGTkRn-gtd-_N7KM?authuser=0&hl=en&rclk=1',\n",
       " 'https://www.google.com/maps/place/Business+Cafeteria/data=!4m7!3m6!1s0x39190787a3b6e263:0x384a1e3b926267ce!8m2!3d31.5383381!4d74.3303817!16s%2Fg%2F11g18y136k!19sChIJY-K2o4cHGTkRzmdikjseSjg?authuser=0&hl=en&rclk=1',\n",
       " 'https://www.google.com/maps/place/Business+Cards+Printing+Company+(Pvt)Ltd./data=!4m7!3m6!1s0x39191b076fd70efb:0xeb31d8998db1f654!8m2!3d31.5033469!4d74.3385479!16s%2Fg%2F11h38958d_!19sChIJ-w7XbwcbGTkRVPaxjZnYMes?authuser=0&hl=en&rclk=1',\n",
       " 'https://www.google.com/maps/place/Business+Center/data=!4m7!3m6!1s0x391904bde13db98d:0x9d6226d6ea50e9f9!8m2!3d31.5404687!4d74.3294292!16s%2Fg%2F11f15hvp17!19sChIJjbk94b0EGTkR-elQ6tYmYp0?authuser=0&hl=en&rclk=1',\n",
       " 'https://www.google.com/maps/place/Business+Consulting+Gurus+(Pvt.)+Limited/data=!4m7!3m6!1s0x3918fdd1087fc517:0x67cc51f807c94916!8m2!3d31.4572714!4d74.2748446!16s%2Fg%2F11n05ll0ct!19sChIJF8V_CNH9GDkRFknJB_hRzGc?authuser=0&hl=en&rclk=1',\n",
       " 'https://www.google.com/maps/place/Business+GO+Digital/data=!4m7!3m6!1s0x3919016b9ccf204f:0x5f630587d812d856!8m2!3d31.4398032!4d74.2739896!16s%2Fg%2F11mvmd26d_!19sChIJTyDPnGsBGTkRVtgS2IcFY18?authuser=0&hl=en&rclk=1',\n",
       " 'https://www.google.com/maps/place/Business+Incubation+Center+(GCU-BIC)/data=!4m7!3m6!1s0x39191d280cd5e6df:0x4cd2a58c45197699!8m2!3d31.5705442!4d74.3086289!16s%2Fg%2F11h55y0rv0!19sChIJ3-bVDCgdGTkRmXYZRYyl0kw?authuser=0&hl=en&rclk=1',\n",
       " 'https://www.google.com/maps/place/Business+Links/data=!4m7!3m6!1s0x391905c68603dbb7:0x7f6871cb43f684d8!8m2!3d31.4914!4d74.326041!16s%2Fg%2F11q45__932!19sChIJt9sDhsYFGTkR2IT2Q8txaH8?authuser=0&hl=en&rclk=1',\n",
       " 'https://www.google.com/maps/place/Business+Mart/data=!4m7!3m6!1s0x391905bab1cb8fd7:0xb7655a98e5d73644!8m2!3d31.5004821!4d74.3542033!16s%2Fg%2F11q9pfj9mf!19sChIJ14_LsboFGTkRRDbX5ZhaZbc?authuser=0&hl=en&rclk=1',\n",
       " 'https://www.google.com/maps/place/Business+Mindset/data=!4m7!3m6!1s0x8043e33def142cb9:0x4436e3082b9c1c0d!8m2!3d31.462109!4d74.2013362!16s%2Fg%2F11rqzcm7j1!19sChIJuSwU7z3jQ4ARDRycKwjjNkQ?authuser=0&hl=en&rclk=1',\n",
       " 'https://www.google.com/maps/place/Business+News+Tips/data=!4m7!3m6!1s0x39190533eebbf42d:0x5d5d68e4edb938ad!8m2!3d31.5139698!4d74.3433629!16s%2Fg%2F11hklhc3b6!19sChIJLfS77jMFGTkRrTi57eRoXV0?authuser=0&hl=en&rclk=1',\n",
       " 'https://www.google.com/maps/place/Business+Smart+Ltd./data=!4m7!3m6!1s0x3919030d763da455:0x5025ce0d56b92cc8!8m2!3d31.4669368!4d74.2594952!16s%2Fg%2F11mw5hmzp9!19sChIJVaQ9dg0DGTkRyCy5Vg3OJVA?authuser=0&hl=en&rclk=1',\n",
       " 'https://www.google.com/maps/place/Business+Solutions/data=!4m7!3m6!1s0x3919053b32748f63:0xd2c2ba20426ec9ea!8m2!3d31.4960362!4d74.3643066!16s%2Fg%2F11h0330y2_!19sChIJY490MjsFGTkR6sluQiC6wtI?authuser=0&hl=en&rclk=1',\n",
       " 'https://www.google.com/maps/place/Business+Solutions/data=!4m7!3m6!1s0x391905ffb5cd550b:0xd1b0202a4cdf39e!8m2!3d31.520237!4d74.3202449!16s%2Fg%2F11ll9wnmy2!19sChIJC1XNtf8FGTkRnvPNpAICGw0?authuser=0&hl=en&rclk=1',\n",
       " 'https://www.google.com/maps/place/Business+Soultion/data=!4m7!3m6!1s0x3919046a65b7d0a7:0x7ea51d1cf2e82b9e!8m2!3d31.5214629!4d74.3249694!16s%2Fg%2F12hqvvbnb!19sChIJp9C3ZWoEGTkRnivo8hwdpX4?authuser=0&hl=en&rclk=1',\n",
       " 'https://www.google.com/maps/place/Business+one+training+%26+Solutions/data=!4m7!3m6!1s0x3919059649b22fb5:0x7f57668eae44d825!8m2!3d31.5001461!4d74.3216152!16s%2Fg%2F11h5ptn4_z!19sChIJtS-ySZYFGTkRJdhEro5mV38?authuser=0&hl=en&rclk=1',\n",
       " 'https://www.google.com/maps/place/Central+Business+District,+Walton,+Lahore/data=!4m7!3m6!1s0x3919050264836455:0xe284ff0fb3ab4bbf!8m2!3d31.5045429!4d74.3350571!16s%2Fg%2F11p3h_6lyk!19sChIJVWSDZAIFGTkRv0ursw__hOI?authuser=0&hl=en&rclk=1',\n",
       " 'https://www.google.com/maps/place/Chartac+business+services/data=!4m7!3m6!1s0x391904fd3d1326d3:0xc47dfbab3d3491c8!8m2!3d31.5299429!4d74.3566731!16s%2Fg%2F12hw6r8dl!19sChIJ0yYTPf0EGTkRyJE0Pav7fcQ?authuser=0&hl=en&rclk=1',\n",
       " 'https://www.google.com/maps/place/Companion+Business+Tech/data=!4m7!3m6!1s0x391903e5eb666103:0xb08c5ea7587ac7fa!8m2!3d31.4938905!4d74.2751503!16s%2Fg%2F11s0x1047y!19sChIJA2Fm6-UDGTkR-sd6WKdejLA?authuser=0&hl=en&rclk=1',\n",
       " 'https://www.google.com/maps/place/Comprihensive+business+international/data=!4m7!3m6!1s0x3919072ac20aad7b:0xa379476779e536a5!8m2!3d31.4385999!4d74.3249271!16s%2Fg%2F11ljyz0hz8!19sChIJe60KwioHGTkRpTbleWdHeaM?authuser=0&hl=en&rclk=1',\n",
       " 'https://www.google.com/maps/place/Cosmosoft+Business+Solutions+(Pvt.)+Ltd./data=!4m7!3m6!1s0x391903c2076ffc0b:0x78bc572d600f12e4!8m2!3d31.4583348!4d74.2934482!16s%2Fg%2F1hc47wfp2!19sChIJC_xvB8IDGTkR5BIPYC1XvHg?authuser=0&hl=en&rclk=1',\n",
       " 'https://www.google.com/maps/place/Cosmosoft+Business+Solutions/data=!4m7!3m6!1s0x391903fabe5db421:0x4064fb678a784358!8m2!3d31.4786579!4d74.3013914!16s%2Fg%2F1tdmhw6p!19sChIJIbRdvvoDGTkRWEN4imf7ZEA?authuser=0&hl=en&rclk=1',\n",
       " 'https://www.google.com/maps/place/Crescent+Group+Of+Businesses/data=!4m7!3m6!1s0x39191b0f0fb1a179:0xb6676567c3d68ab6!8m2!3d31.5621462!4d74.3343402!16s%2Fg%2F11r1g4tfqn!19sChIJeaGxDw8bGTkRtorWw2dlZ7Y?authuser=0&hl=en&rclk=1',\n",
       " 'https://www.google.com/maps/place/Cutting+Edge+BPO+(Business+Process+Outsourcing)/data=!4m7!3m6!1s0x391906a98b729bf3:0xa9a95fbc76326fb2!8m2!3d31.46909!4d74.3179852!16s%2Fg%2F1q2vy82hc!19sChIJ85tyi6kGGTkRsm8ydrxfqak?authuser=0&hl=en&rclk=1',\n",
       " 'https://www.google.com/maps/place/Delawalla+Business+Services/data=!4m7!3m6!1s0x3919051182740af5:0xef6ae330da46dd38!8m2!3d31.5158934!4d74.3411097!16s%2Fg%2F11sg1vdgdf!19sChIJ9Qp0ghEFGTkRON1G2jDjau8?authuser=0&hl=en&rclk=1',\n",
       " 'https://www.google.com/maps/place/Devonics+Business+Solutions/data=!4m7!3m6!1s0x391905652d97bda9:0xf9dc8953364aac2a!8m2!3d31.4945794!4d74.3701944!16s%2Fg%2F11rgg2b7dy!19sChIJqb2XLWUFGTkRKqxKNlOJ3Pk?authuser=0&hl=en&rclk=1',\n",
       " 'https://www.google.com/maps/place/Digital+business+solutions/data=!4m7!3m6!1s0x391907aaf8ceff81:0xe711b234a24b5a81!8m2!3d31.4663355!4d74.3164285!16s%2Fg%2F11pyc4gfrp!19sChIJgf_O-KoHGTkRgVpLojSyEec?authuser=0&hl=en&rclk=1',\n",
       " 'https://www.google.com/maps/place/Exponent+Business+Solutions/data=!4m7!3m6!1s0x391906b058605557:0x8d3d3982e46c9dd2!8m2!3d31.4621761!4d74.3191071!16s%2Fg%2F11hbkh8dn1!19sChIJV1VgWLAGGTkR0p1s5II5PY0?authuser=0&hl=en&rclk=1',\n",
       " 'https://www.google.com/maps/place/FAST+Business+Club/data=!4m7!3m6!1s0x3919039dabb62351:0x755371efc7504ede!8m2!3d31.4810714!4d74.3029919!16s%2Fg%2F11rr2pglyp!19sChIJUSO2q50DGTkR3k5Qx-9xU3U?authuser=0&hl=en&rclk=1',\n",
       " 'https://www.google.com/maps/place/FINTECH+BUSINESS+SYSTEMS+PRIVATE+LIMITED/data=!4m7!3m6!1s0x3919033c590be8f3:0xea8fc3a74be36f7c!8m2!3d31.5154162!4d74.2949997!16s%2Fg%2F11nn3v_g2l!19sChIJ8-gLWTwDGTkRfG_jS6fDj-o?authuser=0&hl=en&rclk=1',\n",
       " 'https://www.google.com/maps/place/Fiesta+Business+Solutions+(FBS)/data=!4m7!3m6!1s0x391905b8bfb7a7a9:0x98ac18d0a3e7d975!8m2!3d31.505009!4d74.3319201!16s%2Fg%2F11nxcb62mw!19sChIJqae3v7gFGTkRddnno9AYrJg?authuser=0&hl=en&rclk=1',\n",
       " 'https://www.google.com/maps/place/Finceptive+Business+Consultants/data=!4m7!3m6!1s0x3919052a31ee29fb:0xc1ebe2ed0592073b!8m2!3d31.5333073!4d74.3401419!16s%2Fg%2F11p04qsmnq!19sChIJ-ynuMSoFGTkROweSBe3i68E?authuser=0&hl=en&rclk=1',\n",
       " 'https://www.google.com/maps/place/Fox+Business+Solutions/data=!4m7!3m6!1s0x391905b4d50b5d5d:0x1fd8443f5d1be180!8m2!3d31.4879832!4d74.3800962!16s%2Fg%2F11jppjdyn8!19sChIJXV0L1bQFGTkRgOEbXT9E2B8?authuser=0&hl=en&rclk=1',\n",
       " 'https://www.google.com/maps/place/Genex+Business+Solutions/data=!4m7!3m6!1s0x391905b83cff7701:0xd081ba5616cfc1ac!8m2!3d31.5012558!4d74.3713637!16s%2Fg%2F11c1rg58zk!19sChIJAXf_PLgFGTkRrMHPFla6gdA?authuser=0&hl=en&rclk=1',\n",
       " 'https://www.google.com/maps/place/Global+Business+Company/data=!4m7!3m6!1s0x39190553c6e287fd:0x5b3d77852e748b2e!8m2!3d31.5218587!4d74.3242401!16s%2Fg%2F11rqtr6j7p!19sChIJ_YfixlMFGTkRLot0LoV3PVs?authuser=0&hl=en&rclk=1',\n",
       " 'https://www.google.com/maps/place/Google+Workspace+Pakistan+-+Business+Apps+%26+Collaboration+Tools/data=!4m7!3m6!1s0x391903d2644acbf3:0x10000001a95e92f9!8m2!3d31.4615842!4d74.275583!16s%2Fg%2F11j1jn4w6t!19sChIJ88tKZNIDGTkR-ZJeqQEAABA?authuser=0&hl=en&rclk=1',\n",
       " 'https://www.google.com/maps/place/HR+Business+Solutions/data=!4m7!3m6!1s0x391907d945125f41:0xd414d0b2b0f1b8cd!8m2!3d31.4701431!4d74.3148555!16s%2Fg%2F11fn6mpx76!19sChIJQV8SRdkHGTkRzbjxsLLQFNQ?authuser=0&hl=en&rclk=1',\n",
       " 'https://www.google.com/maps/place/Heritage+Business+Solutions/data=!4m7!3m6!1s0x39190730e00e8219:0xf2fc122c7d49ed8f!8m2!3d31.4714501!4d74.373054!16s%2Fg%2F11rjjz2w3j!19sChIJGYIO4DAHGTkRj-1JfSwS_PI?authuser=0&hl=en&rclk=1',\n",
       " 'https://www.google.com/maps/place/Home+based+business/data=!4m7!3m6!1s0x391901d0d25c9af5:0x8eb88b6250792fc8!8m2!3d31.4636523!4d74.306348!16s%2Fg%2F11rq9q8y98!19sChIJ9Zpc0tABGTkRyC95UGKLuI4?authuser=0&hl=en&rclk=1',\n",
       " 'https://www.google.com/maps/place/Hussain+Chaudhury+Consulting+(HCC)+-+ERP+Consulting+%26+Business+Technology+Firm+in+Pakistan/data=!4m7!3m6!1s0x3919054be7db4121:0xa8c669eb5108a99a!8m2!3d31.5243204!4d74.3468294!16s%2Fg%2F11j00lg4py!19sChIJIUHb50sFGTkRmqkIUetpxqg?authuser=0&hl=en&rclk=1',\n",
       " 'https://www.google.com/maps/place/Hyphen+Business/data=!4m7!3m6!1s0x391906abc25aaaab:0x4589b353a01c323c!8m2!3d31.4665363!4d74.3167252!16s%2Fg%2F1ptw89pwl!19sChIJq6pawqsGGTkRPDIcoFOziUU?authuser=0&hl=en&rclk=1',\n",
       " 'https://www.google.com/maps/place/IBINT+(International+Business+Institute+Of+New+Technology)/data=!4m7!3m6!1s0x39191c84b947129b:0x5bab7fbaff3d590c!8m2!3d31.5925051!4d74.3047691!16s%2Fg%2F11gczqbr2t!19sChIJmxJHuYQcGTkRDFk9_7p_q1s?authuser=0&hl=en&rclk=1',\n",
       " 'https://www.google.com/maps/place/Ideal+Business+Equipments/data=!4m7!3m6!1s0x391903b57122c767:0x2fffbf868ac14969!8m2!3d31.5405434!4d74.3046909!16s%2Fg%2F11fv5wdr1r!19sChIJZ8cicbUDGTkRaUnBioa__y8?authuser=0&hl=en&rclk=1',\n",
       " 'https://www.google.com/maps/place/Inbox+Business+Technologies/data=!4m7!3m6!1s0x39190471c61e8403:0x4b767021388abc5e!8m2!3d31.5169228!4d74.3435872!16s%2Fg%2F11c312cc44!19sChIJA4QexnEEGTkRXryKOCFwdks?authuser=0&hl=en&rclk=1',\n",
       " 'https://www.google.com/maps/place/Infaque+Business+Solutions/data=!4m7!3m6!1s0x3919051394f40981:0x53f2a2257b40502f!8m2!3d31.5217892!4d74.3567455!16s%2Fg%2F11smdrbb4v!19sChIJgQn0lBMFGTkRL1BAeyWi8lM?authuser=0&hl=en&rclk=1',\n",
       " 'https://www.google.com/maps/place/Institute+Of+Computer+and+Business+Techniques/data=!4m7!3m6!1s0x391904e4aeb6ebb7:0x138e8455f7f3d320!8m2!3d31.5257471!4d74.3496026!16s%2Fg%2F12jlnxq42!19sChIJt-u2ruQEGTkRINPz91WEjhM?authuser=0&hl=en&rclk=1',\n",
       " 'https://www.google.com/maps/place/International+Business+Management+Solution+and+Technologies/data=!4m7!3m6!1s0x391904584e28f22b:0x20f05fd816fd2af1!8m2!3d31.5164989!4d74.3446568!16s%2Fg%2F1hc2j4lws!19sChIJK_IoTlgEGTkR8Sr9Fthf8CA?authuser=0&hl=en&rclk=1',\n",
       " 'https://www.google.com/maps/place/KWB+Business+Consultants/data=!4m7!3m6!1s0x391905e6ca788e03:0x7824a47a74b48f71!8m2!3d31.4956481!4d74.3195198!16s%2Fg%2F11q26rn2vs!19sChIJA454yuYFGTkRcY-0dHqkJHg?authuser=0&hl=en&rclk=1',\n",
       " 'https://www.google.com/maps/place/LOGISTIC+BUSINESS/data=!4m7!3m6!1s0x391904f74f72d551:0xb11201b1be55409f!8m2!3d31.523744!4d74.346066!16s%2Fg%2F11fy_ffxcn!19sChIJUdVyT_cEGTkRn0BVvrEBErE?authuser=0&hl=en&rclk=1',\n",
       " 'https://www.google.com/maps/place/Lahore+Business+Systems+For+Adult+Films/data=!4m7!3m6!1s0x39190459bd7a168b:0x6a95084a54aa629c!8m2!3d31.5145033!4d74.3449018!16s%2Fg%2F11dxrpj0gc!19sChIJixZ6vVkEGTkRnGKqVEoIlWo?authuser=0&hl=en&rclk=1',\n",
       " 'https://www.google.com/maps/place/Lahore+Central+Business+District+Development+Authority/data=!4m7!3m6!1s0x39190520d7e79e63:0xcb907103dff63ca8!8m2!3d31.5080263!4d74.3263346!16s%2Fg%2F11rcvcfhpl!19sChIJY57n1yAFGTkRqDz23wNxkMs?authuser=0&hl=en&rclk=1',\n",
       " 'https://www.google.com/maps/place/Leader+Business+Machines/data=!4m7!3m6!1s0x391905d136ef4cc9:0x3668048f1cfba680!8m2!3d31.5211875!4d74.3178125!16s%2Fg%2F11s04h14yp!19sChIJyUzvNtEFGTkRgKb7HI8EaDY?authuser=0&hl=en&rclk=1',\n",
       " 'https://www.google.com/maps/place/Livestock+Business+Advisory+Center/data=!4m7!3m6!1s0x391904c15bb67c1b:0xcb0e2bb2bd674458!8m2!3d31.4732631!4d74.3028608!16s%2Fg%2F1hm21sk4d!19sChIJG3y2W8EEGTkRWERnvbIrDss?authuser=0&hl=en&rclk=1',\n",
       " 'https://www.google.com/maps/place/MAF+Business+Information+Services/data=!4m7!3m6!1s0x391905abbd8af80f:0x2a1bc23af82fbda4!8m2!3d31.5303803!4d74.3224807!16s%2Fg%2F11smr8ywc8!19sChIJD_iKvasFGTkRpL0v-DrCGyo?authuser=0&hl=en&rclk=1',\n",
       " 'https://www.google.com/maps/place/MKH+Business+Solutions/data=!4m7!3m6!1s0x3919037764a2db5b:0xd8b1fe0e66df282!8m2!3d31.5165057!4d74.2995936!16s%2Fg%2F11f53mnj8h!19sChIJW9uiZHcDGTkRgvJt5uAfiw0?authuser=0&hl=en&rclk=1',\n",
       " 'https://www.google.com/maps/place/MR+Business+Solutions/data=!4m7!3m6!1s0x391905045734f7cb:0xbd51e6b436fb52a3!8m2!3d31.5116701!4d74.3145306!16s%2Fg%2F11fnr_d3s4!19sChIJy_c0VwQFGTkRo1L7NrTmUb0?authuser=0&hl=en&rclk=1',\n",
       " 'https://www.google.com/maps/place/Mustahkam+Digital+Marketing+and+Business+Process+Automation+Agency/data=!4m7!3m6!1s0x391905642dd4a30d:0xc2049b428f1faf6b!8m2!3d31.501377!4d74.365777!16s%2Fg%2F11nxcvwlfc!19sChIJDaPULWQFGTkRa68fj0KbBMI?authuser=0&hl=en&rclk=1',\n",
       " 'https://www.google.com/maps/place/National+College+Of+Business+Administration+And+Economics+(FLC)/data=!4m7!3m6!1s0x391904bd799602e9:0xf57c6a8cb0bfe489!8m2!3d31.5297865!4d74.3349511!16s%2Fg%2F11gdv_4zmd!19sChIJ6QKWeb0EGTkRieS_sIxqfPU?authuser=0&hl=en&rclk=1',\n",
       " 'https://www.google.com/maps/place/Neosoft+Business+Solutions/data=!4m7!3m6!1s0x391905437a430a7f:0xa1e87b08ffeb873a!8m2!3d31.5148966!4d74.3439027!16s%2Fg%2F11gj4s10h2!19sChIJfwpDekMFGTkROofr_wh76KE?authuser=0&hl=en&rclk=1',\n",
       " 'https://www.google.com/maps/place/Netpac+(Networking+%26+Business+Communications)/data=!4m7!3m6!1s0x3919071c4599b22b:0xa26f9b00760f1da8!8m2!3d31.475356!4d74.3584997!16s%2Fg%2F11qp2vpkv9!19sChIJK7KZRRwHGTkRqB0PdgCbb6I?authuser=0&hl=en&rclk=1',\n",
       " 'https://www.google.com/maps/place/Octalsol+-+Grow+your+business+with+us/data=!4m7!3m6!1s0x391901d19ec93d21:0xe7e35ad0c78e58c4!8m2!3d31.5021742!4d74.3265786!16s%2Fg%2F11h5md8y4_!19sChIJIT3JntEBGTkRxFiOx9Ba4-c?authuser=0&hl=en&rclk=1',\n",
       " 'https://www.google.com/maps/place/Orient+Business+Solutions/data=!4m7!3m6!1s0x39191b50b9cc6c2f:0x927c06eae390bccc!8m2!3d31.5696967!4d74.3181132!16s%2Fg%2F11h0jgzw3!19sChIJL2zMuVAbGTkRzLyQ4-oGfJI?authuser=0&hl=en&rclk=1',\n",
       " 'https://www.google.com/maps/place/PCBI+(Punjnad+College+of+Business+%26+Informatics)/data=!4m7!3m6!1s0x39190120cc2a8f61:0xf67b20feebfc144c!8m2!3d31.4447542!4d74.2953732!16s%2Fg%2F11g_x65dzr!19sChIJYY8qzCABGTkRTBT86_4ge_Y?authuser=0&hl=en&rclk=1',\n",
       " \"https://www.google.com/maps/place/Pakistan's+First+Online+Consultants+(PFOC)/data=!4m7!3m6!1s0x391901031d4e7a41:0xceb92c28ff7a8b0f!8m2!3d31.4555748!4d74.2728209!16s%2Fg%2F11q2xxdq__!19sChIJQXpOHQMBGTkRD4t6_ygsuc4?authuser=0&hl=en&rclk=1\",\n",
       " 'https://www.google.com/maps/place/Pakistan+Businesses+Forum/data=!4m7!3m6!1s0x391903cd521f7a01:0xcc635906b7d42e26!8m2!3d31.4659346!4d74.4481575!16s%2Fg%2F11ny4gs457!19sChIJAXofUs0DGTkRJi7UtwZZY8w?authuser=0&hl=en&rclk=1',\n",
       " 'https://www.google.com/maps/place/Prime+Business+Machines/data=!4m7!3m6!1s0x391904589e451b2f:0x300c8ffb635ae1d7!8m2!3d31.5232577!4d74.3458986!16s%2Fg%2F11c5xn7ld5!19sChIJLxtFnlgEGTkR1-FaY_uPDDA?authuser=0&hl=en&rclk=1',\n",
       " 'https://www.google.com/maps/place/Proton+Business+Solutions/data=!4m7!3m6!1s0x39190573c1186251:0x6be100ca8943bc13!8m2!3d31.5139698!4d74.3433629!16s%2Fg%2F11ngpmp9mv!19sChIJUWIYwXMFGTkRE7xDicoA4Ws?authuser=0&hl=en&rclk=1',\n",
       " 'https://www.google.com/maps/place/Pvc+Card+Printing+Business+Cards+Printing+Lahore+Pakistan/data=!4m7!3m6!1s0x391905aa0eb707ed:0xe0a2708e0c6b519d!8m2!3d31.5350862!4d74.3206208!16s%2Fg%2F11g_ym88pv!19sChIJ7Qe3DqoFGTkRnVFrDI5wouA?authuser=0&hl=en&rclk=1',\n",
       " 'https://www.google.com/maps/place/Quantum+Consulting,+LLP/data=!4m7!3m6!1s0x391905d1335d3137:0x6e28156b688de47f!8m2!3d31.501336!4d74.3188884!16s%2Fg%2F11h61kjrhh!19sChIJNzFdM9EFGTkRf-SNaGsVKG4?authuser=0&hl=en&rclk=1',\n",
       " 'https://www.google.com/maps/place/Real+Time+Business+Consultants/data=!4m7!3m6!1s0x3919059ff2427a13:0x45911ba34fa3dc6!8m2!3d31.5189623!4d74.3444129!16s%2Fg%2F11gm9xq9yf!19sChIJE3pC8p8FGTkRxj36NLoRWQQ?authuser=0&hl=en&rclk=1',\n",
       " 'https://www.google.com/maps/place/Rehman+Business+Centre/data=!4m7!3m6!1s0x3919044ed22828ef:0xf293ba15033c6570!8m2!3d31.5029912!4d74.3505362!16s%2Fg%2F1q679h2qd!19sChIJ7ygo0k4EGTkRcGU8AxW6k_I?authuser=0&hl=en&rclk=1',\n",
       " 'https://www.google.com/maps/place/Rehman+Corporate,+Tax+%26+Business+Advisors/data=!4m7!3m6!1s0x39190346f4d296bb:0x4023bb5eecb69688!8m2!3d31.4759491!4d74.3045016!16s%2Fg%2F11lszl8x_k!19sChIJu5bS9EYDGTkRiJa27F67I0A?authuser=0&hl=en&rclk=1',\n",
       " 'https://www.google.com/maps/place/Rehman+Corporate,+Tax+%26+Business+Advisors/data=!4m7!3m6!1s0x3919037ac4f66ff5:0x69e67a768738c1e3!8m2!3d31.4763078!4d74.3125911!16s%2Fg%2F11jdkl8kzv!19sChIJ9W_2xHoDGTkR48E4h3Z65mk?authuser=0&hl=en&rclk=1',\n",
       " 'https://www.google.com/maps/place/SALMAN+BUSINESS+SOLUTIONS/data=!4m7!3m6!1s0x39190591d8fdc2a9:0xea1932ae02854d20!8m2!3d31.5125131!4d74.3426159!16s%2Fg%2F11pdmbgclw!19sChIJqcL92JEFGTkRIE2FAq4yGeo?authuser=0&hl=en&rclk=1',\n",
       " 'https://www.google.com/maps/place/SK+Business+Corporation/data=!4m7!3m6!1s0x391904a5d8507de3:0xd266c5f8071991fe!8m2!3d31.5467069!4d74.3178983!16s%2Fg%2F11b6t35cgj!19sChIJ431Q2KUEGTkR_pEZB_jFZtI?authuser=0&hl=en&rclk=1',\n",
       " 'https://www.google.com/maps/place/Safasha+Business+Solutions/data=!4m7!3m6!1s0x3919056fb2d80c71:0x4cd88d100950d923!8m2!3d31.5280867!4d74.3450448!16s%2Fg%2F11hf19f334!19sChIJcQzYsm8FGTkRI9lQCRCN2Ew?authuser=0&hl=en&rclk=1',\n",
       " 'https://www.google.com/maps/place/Sambyon+Technologies/data=!4m7!3m6!1s0x39190756fbb765ed:0x3335e923d6402ae8!8m2!3d31.4720641!4d74.3299436!16s%2Fg%2F11fslyg01q!19sChIJ7WW3-1YHGTkR6CpA1iPpNTM?authuser=0&hl=en&rclk=1',\n",
       " 'https://www.google.com/maps/place/Shahensha+Business+Services/data=!4m7!3m6!1s0x391903e827fe2af9:0xe883e8bf131816ce!8m2!3d31.5013601!4d74.2673666!16s%2Fg%2F11q8zn0v2t!19sChIJ-Sr-J-gDGTkRzhYYE7_og-g?authuser=0&hl=en&rclk=1',\n",
       " 'https://www.google.com/maps/place/Smart+Trade+and+Business+Center+(STBC)/data=!4m7!3m6!1s0x3919058ab47a7c69:0xd777fa7df4d32469!8m2!3d31.5158365!4d74.3417701!16s%2Fg%2F11mvn_n8tn!19sChIJaXx6tIoFGTkRaSTT9H36d9c?authuser=0&hl=en&rclk=1',\n",
       " 'https://www.google.com/maps/place/SoftVilla+Business+Solutions+%26+Services+Pvt+Ltd./data=!4m7!3m6!1s0x39375bd938f8c0d1:0xbd2445b0d641594d!8m2!3d31.4676384!4d74.3171138!16s%2Fg%2F11h90wnc7c!19sChIJ0cD4ONlbNzkRTVlB1rBFJL0?authuser=0&hl=en&rclk=1',\n",
       " 'https://www.google.com/maps/place/Star+Business+Development+Company/data=!4m7!3m6!1s0x391903d433b58027:0xb90370d237cc6c72!8m2!3d31.465776!4d74.242058!16s%2Fg%2F11p51y3jmm!19sChIJJ4C1M9QDGTkRcmzMN9JwA7k?authuser=0&hl=en&rclk=1',\n",
       " 'https://www.google.com/maps/place/Supply+Chain+Business+Solutions/data=!4m7!3m6!1s0x3919046b56740001:0x4481b06ee5ba3210!8m2!3d31.498145!4d74.332322!16s%2Fg%2F11t9m257d4!19sChIJAQB0VmsEGTkREDK65W6wgUQ?authuser=0&hl=en&rclk=1',\n",
       " 'https://www.google.com/maps/place/The+Baali+Group+of+Businesses/data=!4m7!3m6!1s0x3919071cabf3b8f5:0xb837a66d01afb3f3!8m2!3d31.5203755!4d74.2719506!16s%2Fg%2F11gmg621nw!19sChIJ9bjzqxwHGTkR87OvAW2mN7g?authuser=0&hl=en&rclk=1',\n",
       " 'https://www.google.com/maps/place/The+Business+Hikes/data=!4m7!3m6!1s0x39190396847f5001:0x1b4df431bc117668!8m2!3d31.5070643!4d74.2785718!16s%2Fg%2F11rgght4yp!19sChIJAVB_hJYDGTkRaHYRvDH0TRs?authuser=0&hl=en&rclk=1',\n",
       " 'https://www.google.com/maps/place/The+Business+Planners/data=!4m7!3m6!1s0x39190452df6aec03:0xbbeb4f0ff9b3fd23!8m2!3d31.5117899!4d74.3575489!16s%2Fg%2F11ggw97z51!19sChIJA-xq31IEGTkRI_2z-Q9P67s?authuser=0&hl=en&rclk=1',\n",
       " 'https://www.google.com/maps/place/Trifecta+Business/data=!4m7!3m6!1s0x391905a2185a715f:0xed3a051d0bfb7718!8m2!3d31.5088748!4d74.3498221!16s%2Fg%2F11pkkzx079!19sChIJX3FaGKIFGTkRGHf7Cx0FOu0?authuser=0&hl=en&rclk=1',\n",
       " 'https://www.google.com/maps/place/United+Business+Impex/data=!4m7!3m6!1s0x3919032f456eba01:0x35d199b0a216f2f9!8m2!3d31.5220567!4d74.264192!16s%2Fg%2F11qm3kyw69!19sChIJAbpuRS8DGTkR-fIWorCZ0TU?authuser=0&hl=en&rclk=1',\n",
       " 'https://www.google.com/maps/place/WORKAID+BUSINESS+SERVICES/data=!4m7!3m6!1s0x391901cb6928812b:0x4788f13dd2644051!8m2!3d31.5033648!4d74.3246641!16s%2Fg%2F11pwbyqds1!19sChIJK4EoacsBGTkRUUBk0j3xiEc?authuser=0&hl=en&rclk=1',\n",
       " 'https://www.google.com/maps/place/Way+Business+Solutions+(Pvt.)+Limited+(WBS)/data=!4m7!3m6!1s0x391905811c241b49:0xa9c9eb269bb82c9!8m2!3d31.5007542!4d74.3218833!16s%2Fg%2F11j98n3s47!19sChIJSRskHIEFGTkRyYK7abKenAo?authuser=0&hl=en&rclk=1',\n",
       " 'https://www.google.com/maps/place/Website+Development+%26+online+E-commerce+%26+business+Promotion+social+media+marketing+services/data=!4m7!3m6!1s0x391903f5a4e662fb:0x96a3aa8ea98e2e8d!8m2!3d31.5149524!4d74.281432!16s%2Fg%2F11ll3vppq5!19sChIJ-2LmpPUDGTkRjS6OqY6qo5Y?authuser=0&hl=en&rclk=1',\n",
       " 'https://www.google.com/maps/place/Women+Business/data=!4m7!3m6!1s0x39190743c9e8d2a5:0x1783ddd76c1ecafd!8m2!3d31.4690773!4d74.3176129!16s%2Fg%2F11f60zw1dw!19sChIJpdLoyUMHGTkR_coebNfdgxc?authuser=0&hl=en&rclk=1',\n",
       " 'https://www.google.com/maps/place/Your+Business+Clinic/data=!4m7!3m6!1s0x391905aa8b335a51:0x5bbb348887917bcd!8m2!3d31.4617906!4d74.2981217!16s%2Fg%2F11pdmdmt1c!19sChIJUVozi6oFGTkRzXuRh4g0u1s?authuser=0&hl=en&rclk=1',\n",
       " 'https://www.google.com/maps/place/international+business+sourcing/data=!4m7!3m6!1s0x3919030c810546d1:0x25a59940ded4e7f!8m2!3d31.4720502!4d74.2541389!16s%2Fg%2F11hf5mf78h!19sChIJ0UYFgQwDGTkRf07tDZRZWgI?authuser=0&hl=en&rclk=1',\n",
       " 'https://www.google.com/maps/place/zahid+business/data=!4m7!3m6!1s0x391905436ac58d8f:0x502575f1936191a9!8m2!3d31.5101892!4d74.3440842!16s%2Fg%2F11tf_nkb2w!19sChIJj43FakMFGTkRqZFhk_F1JVA?authuser=0&hl=en&rclk=1',\n",
       " 'https://www.google.com/maps/place/zahid+business/data=!4m7!3m6!1s0x3919059a4802ed03:0x368eb5dd3cec5e2f!8m2!3d31.5101892!4d74.3440842!16s%2Fg%2F11tf_nhsdj!19sChIJA-0CSJoFGTkRL17sPN21jjY?authuser=0&hl=en&rclk=1'}"
      ]
     },
     "execution_count": 15,
     "metadata": {},
     "output_type": "execute_result"
    }
   ],
   "source": [
    "hrefs_set"
   ]
  },
  {
   "cell_type": "code",
   "execution_count": 17,
   "metadata": {},
   "outputs": [],
   "source": [
    "test_href = hrefs_set.pop()"
   ]
  },
  {
   "cell_type": "code",
   "execution_count": 18,
   "metadata": {},
   "outputs": [
    {
     "data": {
      "text/plain": [
       "'https://www.google.com/maps/place/The+Business+Hikes/data=!4m7!3m6!1s0x39190396847f5001:0x1b4df431bc117668!8m2!3d31.5070643!4d74.2785718!16s%2Fg%2F11rgght4yp!19sChIJAVB_hJYDGTkRaHYRvDH0TRs?authuser=0&hl=en&rclk=1'"
      ]
     },
     "execution_count": 18,
     "metadata": {},
     "output_type": "execute_result"
    }
   ],
   "source": [
    "test_href"
   ]
  },
  {
   "cell_type": "code",
   "execution_count": 19,
   "metadata": {},
   "outputs": [
    {
     "data": {
      "text/plain": [
       "['https://www.google.com/maps/place/The+Business+Hikes/data=',\n",
       " '4m7',\n",
       " '3m6',\n",
       " '1s0x39190396847f5001:0x1b4df431bc117668',\n",
       " '8m2',\n",
       " '3d31.5070643',\n",
       " '4d74.2785718',\n",
       " '16s%2Fg%2F11rgght4yp',\n",
       " '19sChIJAVB_hJYDGTkRaHYRvDH0TRs?authuser=0&hl=en&rclk=1']"
      ]
     },
     "execution_count": 19,
     "metadata": {},
     "output_type": "execute_result"
    }
   ],
   "source": [
    "test_href.split(\"!\")"
   ]
  },
  {
   "cell_type": "code",
   "execution_count": 34,
   "metadata": {},
   "outputs": [],
   "source": [
    "test_href2 = hrefs_set.pop()"
   ]
  },
  {
   "cell_type": "code",
   "execution_count": 42,
   "metadata": {},
   "outputs": [],
   "source": [
    "test_href2 = \"https://www.google.com/maps/place/Lahore+Central+Business+District+Development+Authority/data=!4m7!3m6!1s0x39190520d7e79e63:0xcb907103dff63ca8!8m2!3d31.5080263!4d74.3263346!16s%2Fg%2F11rcvcfhpl!19sChIJY57n1yAFGTkRqDz23wNxkMs?authuser=0&hl=en&rclk=1\""
   ]
  },
  {
   "cell_type": "code",
   "execution_count": 44,
   "metadata": {},
   "outputs": [],
   "source": [
    "test_href2 = test_href2.split(\"!\")"
   ]
  },
  {
   "cell_type": "code",
   "execution_count": 45,
   "metadata": {},
   "outputs": [
    {
     "data": {
      "text/plain": [
       "['https://www.google.com/maps/place/Lahore+Central+Business+District+Development+Authority/data=',\n",
       " '4m7',\n",
       " '3m6',\n",
       " '1s0x39190520d7e79e63:0xcb907103dff63ca8',\n",
       " '8m2',\n",
       " '3d31.5080263',\n",
       " '4d74.3263346',\n",
       " '16s%2Fg%2F11rcvcfhpl',\n",
       " '19sChIJY57n1yAFGTkRqDz23wNxkMs?authuser=0&hl=en&rclk=1']"
      ]
     },
     "execution_count": 45,
     "metadata": {},
     "output_type": "execute_result"
    }
   ],
   "source": [
    "test_href2"
   ]
  }
 ],
 "metadata": {
  "kernelspec": {
   "display_name": "Python 3.10.6 64-bit",
   "language": "python",
   "name": "python3"
  },
  "language_info": {
   "codemirror_mode": {
    "name": "ipython",
    "version": 3
   },
   "file_extension": ".py",
   "mimetype": "text/x-python",
   "name": "python",
   "nbconvert_exporter": "python",
   "pygments_lexer": "ipython3",
   "version": "3.10.6"
  },
  "orig_nbformat": 4,
  "vscode": {
   "interpreter": {
    "hash": "69e417cd3fe9c1c8a76c0f183d8ef3b4a421d52f84359c468d2405ce40a4aa72"
   }
  }
 },
 "nbformat": 4,
 "nbformat_minor": 2
}
