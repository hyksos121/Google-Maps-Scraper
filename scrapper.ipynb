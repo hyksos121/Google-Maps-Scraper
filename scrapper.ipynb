{
 "cells": [
  {
   "cell_type": "code",
   "execution_count": 4,
   "metadata": {},
   "outputs": [],
   "source": [
    "import selenium\n",
    "from selenium import webdriver\n",
    "from selenium.webdriver import Chrome as wdChrome, Firefox as wdFirefox, Edge as wdEdge\n",
    "from selenium.webdriver.common.by import By\n",
    "from selenium.webdriver.common.keys import Keys\n",
    "from selenium.webdriver.chrome.service import Service as ChromeService\n",
    "# from selenium.webdriver.edge.service import Service as EdgeService\n",
    "# from selenium.wAebdriver.firefox.service import Service as FirefoxService\n",
    "from selenium.webdriver.common.action_chains import ActionChains\n",
    "from selenium.webdriver.support.ui import WebDriverWait\n",
    "from selenium.webdriver.support import expected_conditions as EC\n",
    "import selenium.common.exceptions as selExcep \n",
    "from selenium.webdriver.chrome.options import Options\n",
    "from webdriver_manager.chrome import ChromeDriverManager\n",
    "# from webdriver_manager.firefox import GeckoDriverManager\n",
    "# from webdriver_manager.microsoft import EdgeChromiumDriverManager\n",
    "\n",
    "\n",
    "import pandas as pd\n",
    "import numpy as np\n",
    "import time"
   ]
  },
  {
   "cell_type": "code",
   "execution_count": 5,
   "metadata": {},
   "outputs": [],
   "source": [
    "gm_search_keywords = []\n",
    "with open(\"keywords.txt\") as keywords:\n",
    "    gm_search_keywords = [kw.rstrip() for kw in keywords]\n",
    "    \n",
    "# n = int(len(gm_search_keywords)/4)\n",
    "\n",
    "# #################\n",
    "#                 #\n",
    "# PARTITION = 0   #\n",
    "#                 #\n",
    "# #################\n",
    "\n",
    "# start = n * PARTITION\n",
    "# end = n * (PARTITION + 1)\n",
    "# gm_search_keywords = gm_search_keywords[start:end]"
   ]
  },
  {
   "cell_type": "code",
   "execution_count": 6,
   "metadata": {},
   "outputs": [],
   "source": [
    "home_url = 'https://www.google.com/maps/place/Lahore,+Punjab,+Pakistan/@74.1943055,31.4831569,11z/data=!3m1!4b1!4m5!3m4!1s0x39190483e58107d9:0xc23abe6ccc7e2462!8m2!3d31.5203696!4d74.3587473'\n",
    "\n",
    "options = Options()\n",
    "options.add_argument(\"--window-size=1920,1080\")\n",
    "options.add_argument(\"--start-maximized\")\n",
    "options.add_argument(\"--headless\")\n",
    "\n",
    "service = ChromeService(executable_path = ChromeDriverManager().install())\n",
    "\n",
    "driver = wdChrome(service= service, options= options)\n",
    "\n",
    "driver.get(home_url)\n",
    "\n",
    "action = ActionChains(driver)\n",
    "\n",
    "time.sleep(1)"
   ]
  },
  {
   "cell_type": "code",
   "execution_count": 7,
   "metadata": {},
   "outputs": [],
   "source": [
    "MAP_SEARCH_XPATH = '//*[@id=\"searchboxinput\"]'\n",
    "LOCATION_BOX_XPATH = '//*[@id=\"QA0Szd\"]/div/div/div[1]/div[2]/div/div[1]/div/div/div[2]/div[1]'\n",
    "LOC_BOX_CLASS = \"hfpxzc\""
   ]
  },
  {
   "cell_type": "code",
   "execution_count": 8,
   "metadata": {},
   "outputs": [],
   "source": [
    "LOC_NAME_XPATH = '//*[@id=\"QA0Szd\"]/div/div/div[1]/div[2]/div/div[1]/div/div/div[2]/div[1]/div[1]/div[1]/h1'\n",
    "LOC_RATING_XPATH = '//*[@id=\"QA0Szd\"]/div/div/div[1]/div[2]/div/div[1]/div/div/div[2]/div[1]/div[1]/div[2]/div/div[1]/div[2]/span[1]/span/span[1]'\n",
    "LOC_RATING_COUNT_XPATH = '//*[@id=\"QA0Szd\"]/div/div/div[1]/div[2]/div/div[1]/div/div/div[2]/div[1]/div[1]/div[2]/div/div[1]/div[2]/span[2]/span[1]/button'"
   ]
  },
  {
   "cell_type": "code",
   "execution_count": 9,
   "metadata": {},
   "outputs": [],
   "source": [
    "def search_map(query: str) -> None:\n",
    "    map_searchbar = driver.find_element(By.XPATH, MAP_SEARCH_XPATH)\n",
    "    map_searchbar.clear()\n",
    "    map_searchbar.send_keys(query)\n",
    "    map_searchbar.send_keys(Keys.RETURN)\n",
    "    time.sleep(3)"
   ]
  },
  {
   "cell_type": "markdown",
   "metadata": {},
   "source": [
    "### Collecting hrefs from all locations in a radius"
   ]
  },
  {
   "cell_type": "code",
   "execution_count": 10,
   "metadata": {},
   "outputs": [],
   "source": [
    "## Covers all of lahore\n",
    "\n",
    "start_lat= 31.283179\n",
    "start_long= 74.080275\n",
    "\n",
    "stop_lat = 31.671291\n",
    "stop_long = 74.551132\n",
    "\n",
    "lat_step = (stop_lat - start_lat) / 4\n",
    "long_step = (stop_long - start_long) / 4\n",
    "\n",
    "lat_dist = np.arange(start=start_lat, stop= stop_lat, step= lat_step, dtype= \"float32\")\n",
    "long_dist = np.arange(start=start_long, stop= stop_long, step= long_step, dtype= \"float32\")\n",
    "\n",
    "geo_loc_grid = np.transpose([np.tile(lat_dist, len(long_dist)), np.repeat(long_dist, len(lat_dist))])"
   ]
  },
  {
   "cell_type": "code",
   "execution_count": 11,
   "metadata": {},
   "outputs": [
    {
     "name": "stdout",
     "output_type": "stream",
     "text": [
      "accounting\n",
      "https://www.google.com/maps/search/accounting/@31.283178329467773,74.08027648925781,13z/data=!3m1!4b1\n",
      "https://www.google.com/maps/search/accounting/@31.380207061767578,74.08027648925781,13z/data=!3m1!4b1\n"
     ]
    },
    {
     "ename": "KeyboardInterrupt",
     "evalue": "",
     "output_type": "error",
     "traceback": [
      "\u001b[1;31m---------------------------------------------------------------------------\u001b[0m",
      "\u001b[1;31mKeyboardInterrupt\u001b[0m                         Traceback (most recent call last)",
      "\u001b[1;32mc:\\Users\\yousu\\OneDrive\\Github_Repos\\Google-Maps-Scraper\\scrapper.ipynb Cell 9\u001b[0m in \u001b[0;36m<cell line: 7>\u001b[1;34m()\u001b[0m\n\u001b[0;32m     <a href='vscode-notebook-cell:/c%3A/Users/yousu/OneDrive/Github_Repos/Google-Maps-Scraper/scrapper.ipynb#X52sZmlsZQ%3D%3D?line=15'>16</a>\u001b[0m \u001b[39mprint\u001b[39m(dynamic_url)\n\u001b[0;32m     <a href='vscode-notebook-cell:/c%3A/Users/yousu/OneDrive/Github_Repos/Google-Maps-Scraper/scrapper.ipynb#X52sZmlsZQ%3D%3D?line=16'>17</a>\u001b[0m driver\u001b[39m.\u001b[39mget(dynamic_url)\n\u001b[1;32m---> <a href='vscode-notebook-cell:/c%3A/Users/yousu/OneDrive/Github_Repos/Google-Maps-Scraper/scrapper.ipynb#X52sZmlsZQ%3D%3D?line=17'>18</a>\u001b[0m time\u001b[39m.\u001b[39;49msleep(\u001b[39m1\u001b[39;49m)\n\u001b[0;32m     <a href='vscode-notebook-cell:/c%3A/Users/yousu/OneDrive/Github_Repos/Google-Maps-Scraper/scrapper.ipynb#X52sZmlsZQ%3D%3D?line=18'>19</a>\u001b[0m \u001b[39mwhile\u001b[39;00m \u001b[39mnot\u001b[39;00m find_all_elem:\n\u001b[0;32m     <a href='vscode-notebook-cell:/c%3A/Users/yousu/OneDrive/Github_Repos/Google-Maps-Scraper/scrapper.ipynb#X52sZmlsZQ%3D%3D?line=19'>20</a>\u001b[0m     loc_div \u001b[39m=\u001b[39m driver\u001b[39m.\u001b[39mfind_element(By\u001b[39m.\u001b[39mXPATH, LOCATION_BOX_XPATH)\n",
      "\u001b[1;31mKeyboardInterrupt\u001b[0m: "
     ]
    }
   ],
   "source": [
    "hrefs_set = set()\n",
    "\n",
    "last_href = None\n",
    "find_all_elem = False\n",
    "\n",
    "\n",
    "for query in gm_search_keywords:\n",
    "    search_map(query)\n",
    "    print(query)\n",
    "    curr_url = driver.current_url\n",
    "    template_url = curr_url.split(\"@\")[0]\n",
    "    for loc in geo_loc_grid:\n",
    "        lat = loc[0]\n",
    "        long = loc[1]\n",
    "        dynamic_url = f\"{template_url}@{lat},{long},13z/data=!3m1!4b1\"\n",
    "        print(dynamic_url)\n",
    "        driver.get(dynamic_url)\n",
    "        time.sleep(1)\n",
    "        while not find_all_elem:\n",
    "            loc_div = driver.find_element(By.XPATH, LOCATION_BOX_XPATH)\n",
    "            action.move_to_element(loc_div).perform()\n",
    "            loc_boxes = driver.find_elements(By.CLASS_NAME, LOC_BOX_CLASS)\n",
    "            hrefs = [tuple([loc_box.get_attribute(\"href\"), query]) for loc_box in loc_boxes]\n",
    "            hrefs_set.update(hrefs)\n",
    "            loc_div.send_keys(Keys.END)\n",
    "            time.sleep(3)\n",
    "\n",
    "            if(last_href == None):\n",
    "                last_href = hrefs[-1]\n",
    "                continue\n",
    "            \n",
    "            if(last_href == hrefs[-1]):\n",
    "                find_all_elem = True\n",
    "            else:\n",
    "                last_href = hrefs[-1]\n",
    "        find_all_elem = False\n",
    "        time.sleep(3)\n",
    "    time.sleep(5)\n",
    "    \n",
    "len(hrefs_set)"
   ]
  },
  {
   "cell_type": "code",
   "execution_count": null,
   "metadata": {},
   "outputs": [],
   "source": [
    "href_list = list(hrefs_set)\n",
    "href_list.sort()\n",
    "file_name = f\"href_list.txt\"\n",
    "\n",
    "with open(file_name, 'a') as my_file:\n",
    "    for href in href_list:\n",
    "        my_file.write(href)"
   ]
  },
  {
   "cell_type": "markdown",
   "metadata": {},
   "source": [
    "# Extracting data from href"
   ]
  },
  {
   "cell_type": "code",
   "execution_count": null,
   "metadata": {},
   "outputs": [],
   "source": [
    "df = pd.DataFrame()"
   ]
  },
  {
   "cell_type": "markdown",
   "metadata": {},
   "source": [
    "### getting data from each href"
   ]
  },
  {
   "cell_type": "code",
   "execution_count": null,
   "metadata": {},
   "outputs": [],
   "source": [
    "href_list = list()\n",
    "loc_names = list()\n",
    "loc_ratings = list()\n",
    "latitudes = list()\n",
    "longitudes = list()\n",
    "total_ratings = list()\n",
    "query_list = list()"
   ]
  },
  {
   "cell_type": "code",
   "execution_count": null,
   "metadata": {},
   "outputs": [],
   "source": [
    "href_list = list(hrefs_set)\n",
    "href_list.sort()"
   ]
  },
  {
   "cell_type": "markdown",
   "metadata": {},
   "source": [
    "### Getting infro from each href"
   ]
  },
  {
   "cell_type": "code",
   "execution_count": null,
   "metadata": {},
   "outputs": [],
   "source": [
    "for href in href_list:\n",
    "    lat, long = href.split(\"!3d\")[1].split(\"!4d\")\n",
    "    long = long.split(\"!\")[0]\n",
    "    \n",
    "    driver.get(href[0])\n",
    "    query_list.append(href[1])\n",
    "    time.sleep(1)\n",
    "    \n",
    "    check_load = True\n",
    "    refresh_time = 10\n",
    "    while(check_load):\n",
    "        try:\n",
    "            name = driver.find_element(By.XPATH, LOC_NAME_XPATH).text\n",
    "            check_load = False\n",
    "            \n",
    "        except selExcep.NoSuchElementException:\n",
    "            # Ip got blocked, Wait for some time and refresh\n",
    "            time.sleep(refresh_time)\n",
    "            driver.get(href)\n",
    "            time.sleep(1)\n",
    "            print(f\"Refresh time: {refresh_time}\")\n",
    "            refresh_time += 5\n",
    "    \n",
    "    try:\n",
    "        rating = driver.find_element(By.XPATH, LOC_RATING_XPATH).text\n",
    "        rating_count = driver.find_element(By.XPATH, LOC_RATING_COUNT_XPATH).text.split()[0]\n",
    "        rating_count = rating_count.replace(\",\", \"\")\n",
    "        rating_count = int(rating_count)  \n",
    "        \n",
    "    except selExcep.NoSuchElementException:\n",
    "        rating = None\n",
    "        rating_count = None\n",
    "          \n",
    "    loc_names.append(name)\n",
    "    loc_ratings.append(rating)\n",
    "    latitudes.append(lat)\n",
    "    longitudes.append(long)\n",
    "    total_ratings.append(rating_count)\n",
    "    time.sleep(3)\n",
    "    "
   ]
  },
  {
   "cell_type": "code",
   "execution_count": null,
   "metadata": {},
   "outputs": [],
   "source": [
    "df[\"loc_name\"] = loc_names\n",
    "df[\"loc_rating\"] = loc_ratings\n",
    "df[\"total_rating\"] = total_ratings\n",
    "df[\"latitude\"] = latitudes\n",
    "df[\"longitude\"] = longitudes\n",
    "df"
   ]
  },
  {
   "cell_type": "code",
   "execution_count": null,
   "metadata": {},
   "outputs": [],
   "source": [
    "df.to_csv(f'prototype.csv')"
   ]
  },
  {
   "cell_type": "code",
   "execution_count": null,
   "metadata": {},
   "outputs": [],
   "source": []
  }
 ],
 "metadata": {
  "kernelspec": {
   "display_name": "Python 3.10.6 64-bit",
   "language": "python",
   "name": "python3"
  },
  "language_info": {
   "codemirror_mode": {
    "name": "ipython",
    "version": 3
   },
   "file_extension": ".py",
   "mimetype": "text/x-python",
   "name": "python",
   "nbconvert_exporter": "python",
   "pygments_lexer": "ipython3",
   "version": "3.10.6"
  },
  "orig_nbformat": 4,
  "vscode": {
   "interpreter": {
    "hash": "69e417cd3fe9c1c8a76c0f183d8ef3b4a421d52f84359c468d2405ce40a4aa72"
   }
  }
 },
 "nbformat": 4,
 "nbformat_minor": 2
}
