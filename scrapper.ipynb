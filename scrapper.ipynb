{
 "cells": [
  {
   "cell_type": "code",
   "execution_count": 1,
   "metadata": {},
   "outputs": [],
   "source": [
    "import selenium\n",
    "from selenium import webdriver\n",
    "from selenium.webdriver import Chrome as wdChrome, Firefox as wdFirefox, Edge as wdEdge\n",
    "from selenium.webdriver.common.by import By\n",
    "from selenium.webdriver.common.keys import Keys\n",
    "from selenium.webdriver.chrome.service import Service as ChromeService\n",
    "# from selenium.webdriver.edge.service import Service as EdgeService\n",
    "# from selenium.wAebdriver.firefox.service import Service as FirefoxService\n",
    "from selenium.webdriver.common.action_chains import ActionChains\n",
    "from selenium.webdriver.support.ui import WebDriverWait\n",
    "from selenium.webdriver.support import expected_conditions as EC\n",
    "import selenium.common.exceptions as selExcep \n",
    "from selenium.webdriver.chrome.options import Options\n",
    "from webdriver_manager.chrome import ChromeDriverManager\n",
    "# from webdriver_manager.firefox import GeckoDriverManager\n",
    "# from webdriver_manager.microsoft import EdgeChromiumDriverManager\n",
    "\n",
    "\n",
    "import pandas as pd\n",
    "import numpy as np\n",
    "import time"
   ]
  },
  {
   "cell_type": "code",
   "execution_count": 2,
   "metadata": {},
   "outputs": [],
   "source": [
    "gm_search_keywords = []\n",
    "with open(\"keywords.txt\") as keywords:\n",
    "    gm_search_keywords = [kw.rstrip() for kw in keywords]\n",
    "    \n",
    "# n = int(len(gm_search_keywords)/4)\n",
    "\n",
    "# #################\n",
    "#                 #\n",
    "# PARTITION = 0   #\n",
    "#                 #\n",
    "# #################\n",
    "\n",
    "# start = n * PARTITION\n",
    "# end = n * (PARTITION + 1)\n",
    "# gm_search_keywords = gm_search_keywords[start:end]"
   ]
  },
  {
   "cell_type": "code",
   "execution_count": 3,
   "metadata": {},
   "outputs": [
    {
     "ename": "NameError",
     "evalue": "name 'chrome_options' is not defined",
     "output_type": "error",
     "traceback": [
      "\u001b[1;31m---------------------------------------------------------------------------\u001b[0m",
      "\u001b[1;31mNameError\u001b[0m                                 Traceback (most recent call last)",
      "\u001b[1;32mc:\\Users\\yousu\\OneDrive\\Github_Repos\\Google-Maps-Scraper\\scrapper.ipynb Cell 3\u001b[0m in \u001b[0;36m<cell line: 10>\u001b[1;34m()\u001b[0m\n\u001b[0;32m      <a href='vscode-notebook-cell:/c%3A/Users/yousu/OneDrive/Github_Repos/Google-Maps-Scraper/scrapper.ipynb#X31sZmlsZQ%3D%3D?line=5'>6</a>\u001b[0m options\u001b[39m.\u001b[39madd_argument(\u001b[39m\"\u001b[39m\u001b[39m--headless\u001b[39m\u001b[39m\"\u001b[39m)\n\u001b[0;32m      <a href='vscode-notebook-cell:/c%3A/Users/yousu/OneDrive/Github_Repos/Google-Maps-Scraper/scrapper.ipynb#X31sZmlsZQ%3D%3D?line=7'>8</a>\u001b[0m service \u001b[39m=\u001b[39m ChromeService(executable_path \u001b[39m=\u001b[39m ChromeDriverManager()\u001b[39m.\u001b[39minstall())\n\u001b[1;32m---> <a href='vscode-notebook-cell:/c%3A/Users/yousu/OneDrive/Github_Repos/Google-Maps-Scraper/scrapper.ipynb#X31sZmlsZQ%3D%3D?line=9'>10</a>\u001b[0m driver \u001b[39m=\u001b[39m wdChrome(service\u001b[39m=\u001b[39m service, options\u001b[39m=\u001b[39m chrome_options)\n\u001b[0;32m     <a href='vscode-notebook-cell:/c%3A/Users/yousu/OneDrive/Github_Repos/Google-Maps-Scraper/scrapper.ipynb#X31sZmlsZQ%3D%3D?line=11'>12</a>\u001b[0m driver\u001b[39m.\u001b[39mget(home_url)\n\u001b[0;32m     <a href='vscode-notebook-cell:/c%3A/Users/yousu/OneDrive/Github_Repos/Google-Maps-Scraper/scrapper.ipynb#X31sZmlsZQ%3D%3D?line=13'>14</a>\u001b[0m action \u001b[39m=\u001b[39m ActionChains(driver)\n",
      "\u001b[1;31mNameError\u001b[0m: name 'chrome_options' is not defined"
     ]
    }
   ],
   "source": [
    "home_url = 'https://www.google.com/maps/place/Lahore,+Punjab,+Pakistan/@74.1943055,31.4831569,11z/data=!3m1!4b1!4m5!3m4!1s0x39190483e58107d9:0xc23abe6ccc7e2462!8m2!3d31.5203696!4d74.3587473'\n",
    "\n",
    "options = Options()\n",
    "options.add_argument(\"--window-size=1920,1080\")\n",
    "options.add_argument(\"--start-maximized\")\n",
    "options.add_argument(\"--headless\")\n",
    "\n",
    "service = ChromeService(executable_path = ChromeDriverManager().install())\n",
    "\n",
    "driver = wdChrome(service= service, options= options)\n",
    "\n",
    "driver.get(home_url)\n",
    "\n",
    "action = ActionChains(driver)\n",
    "\n",
    "time.sleep(1)"
   ]
  },
  {
   "cell_type": "code",
   "execution_count": null,
   "metadata": {},
   "outputs": [],
   "source": [
    "MAP_SEARCH_XPATH = '//*[@id=\"searchboxinput\"]'\n",
    "LOCATION_BOX_XPATH = '//*[@id=\"QA0Szd\"]/div/div/div[1]/div[2]/div/div[1]/div/div/div[2]/div[1]'\n",
    "LOC_BOX_CLASS = \"hfpxzc\""
   ]
  },
  {
   "cell_type": "code",
   "execution_count": null,
   "metadata": {},
   "outputs": [],
   "source": [
    "LOC_NAME_XPATH = '//*[@id=\"QA0Szd\"]/div/div/div[1]/div[2]/div/div[1]/div/div/div[2]/div[1]/div[1]/div[1]/h1'\n",
    "LOC_RATING_XPATH = '//*[@id=\"QA0Szd\"]/div/div/div[1]/div[2]/div/div[1]/div/div/div[2]/div[1]/div[1]/div[2]/div/div[1]/div[2]/span[1]/span/span[1]'\n",
    "LOC_RATING_COUNT_XPATH = '//*[@id=\"QA0Szd\"]/div/div/div[1]/div[2]/div/div[1]/div/div/div[2]/div[1]/div[1]/div[2]/div/div[1]/div[2]/span[2]/span[1]/button'"
   ]
  },
  {
   "cell_type": "code",
   "execution_count": null,
   "metadata": {},
   "outputs": [],
   "source": [
    "def search_map(query: str) -> None:\n",
    "    map_searchbar = driver.find_element(By.XPATH, MAP_SEARCH_XPATH)\n",
    "    map_searchbar.clear()\n",
    "    map_searchbar.send_keys(query)\n",
    "    map_searchbar.send_keys(Keys.RETURN)\n",
    "    time.sleep(3)"
   ]
  },
  {
   "cell_type": "markdown",
   "metadata": {},
   "source": [
    "### Collecting hrefs from all locations in a radius"
   ]
  },
  {
   "cell_type": "code",
   "execution_count": null,
   "metadata": {},
   "outputs": [],
   "source": [
    "## Covers all of lahore\n",
    "\n",
    "start_lat= 31.283179\n",
    "start_long= 74.080275\n",
    "\n",
    "stop_lat = 31.671291\n",
    "stop_long = 74.551132\n",
    "\n",
    "lat_step = (stop_lat - start_lat) / 4\n",
    "long_step = (stop_long - start_long) / 4\n",
    "\n",
    "lat_dist = np.arange(start=start_lat, stop= stop_lat, step= lat_step, dtype= \"float32\")\n",
    "long_dist = np.arange(start=start_long, stop= stop_long, step= long_step, dtype= \"float32\")\n",
    "\n",
    "geo_loc_grid = np.transpose([np.tile(lat_dist, len(long_dist)), np.repeat(long_dist, len(lat_dist))])"
   ]
  },
  {
   "cell_type": "code",
   "execution_count": null,
   "metadata": {},
   "outputs": [
    {
     "name": "stdout",
     "output_type": "stream",
     "text": [
      "accounting\n",
      "https://www.google.com/maps/search/accounting/@31.283178329467773,74.08027648925781,13z/data=!3m1!4b1\n"
     ]
    },
    {
     "ename": "NoSuchWindowException",
     "evalue": "Message: no such window: target window already closed\nfrom unknown error: web view not found\n  (Session info: chrome=107.0.5304.88)\nStacktrace:\nBacktrace:\n\tOrdinal0 [0x0022ACD3+2075859]\n\tOrdinal0 [0x001BEE61+1633889]\n\tOrdinal0 [0x000BB7BD+571325]\n\tOrdinal0 [0x000A2E1A+470554]\n\tOrdinal0 [0x0010AA0B+895499]\n\tOrdinal0 [0x0011AC96+961686]\n\tOrdinal0 [0x00107136+880950]\n\tOrdinal0 [0x000DFEFD+720637]\n\tOrdinal0 [0x000E0F3F+724799]\n\tGetHandleVerifier [0x004DEED2+2769538]\n\tGetHandleVerifier [0x004D0D95+2711877]\n\tGetHandleVerifier [0x002BA03A+521194]\n\tGetHandleVerifier [0x002B8DA0+516432]\n\tOrdinal0 [0x001C682C+1665068]\n\tOrdinal0 [0x001CB128+1683752]\n\tOrdinal0 [0x001CB215+1683989]\n\tOrdinal0 [0x001D6484+1729668]\n\tBaseThreadInitThunk [0x75557BA9+25]\n\tRtlInitializeExceptionChain [0x773EBB3B+107]\n\tRtlClearBits [0x773EBABF+191]\n\t(No symbol) [0x00000000]\n",
     "output_type": "error",
     "traceback": [
      "\u001b[1;31m---------------------------------------------------------------------------\u001b[0m",
      "\u001b[1;31mNoSuchWindowException\u001b[0m                     Traceback (most recent call last)",
      "\u001b[1;32mc:\\Users\\yousu\\OneDrive\\Github_Repos\\Google-Maps-Scraper\\scrapper.ipynb Cell 9\u001b[0m in \u001b[0;36m<cell line: 7>\u001b[1;34m()\u001b[0m\n\u001b[0;32m     <a href='vscode-notebook-cell:/c%3A/Users/yousu/OneDrive/Github_Repos/Google-Maps-Scraper/scrapper.ipynb#X52sZmlsZQ%3D%3D?line=20'>21</a>\u001b[0m action\u001b[39m.\u001b[39mmove_to_element(loc_div)\u001b[39m.\u001b[39mperform()\n\u001b[0;32m     <a href='vscode-notebook-cell:/c%3A/Users/yousu/OneDrive/Github_Repos/Google-Maps-Scraper/scrapper.ipynb#X52sZmlsZQ%3D%3D?line=21'>22</a>\u001b[0m loc_boxes \u001b[39m=\u001b[39m driver\u001b[39m.\u001b[39mfind_elements(By\u001b[39m.\u001b[39mCLASS_NAME, LOC_BOX_CLASS)\n\u001b[1;32m---> <a href='vscode-notebook-cell:/c%3A/Users/yousu/OneDrive/Github_Repos/Google-Maps-Scraper/scrapper.ipynb#X52sZmlsZQ%3D%3D?line=22'>23</a>\u001b[0m hrefs \u001b[39m=\u001b[39m [\u001b[39mtuple\u001b[39m([loc_box\u001b[39m.\u001b[39mget_attribute(\u001b[39m\"\u001b[39m\u001b[39mhref\u001b[39m\u001b[39m\"\u001b[39m), query]) \u001b[39mfor\u001b[39;00m loc_box \u001b[39min\u001b[39;00m loc_boxes]\n\u001b[0;32m     <a href='vscode-notebook-cell:/c%3A/Users/yousu/OneDrive/Github_Repos/Google-Maps-Scraper/scrapper.ipynb#X52sZmlsZQ%3D%3D?line=23'>24</a>\u001b[0m hrefs_set\u001b[39m.\u001b[39mupdate(hrefs)\n\u001b[0;32m     <a href='vscode-notebook-cell:/c%3A/Users/yousu/OneDrive/Github_Repos/Google-Maps-Scraper/scrapper.ipynb#X52sZmlsZQ%3D%3D?line=24'>25</a>\u001b[0m loc_div\u001b[39m.\u001b[39msend_keys(Keys\u001b[39m.\u001b[39mEND)\n",
      "\u001b[1;32mc:\\Users\\yousu\\OneDrive\\Github_Repos\\Google-Maps-Scraper\\scrapper.ipynb Cell 9\u001b[0m in \u001b[0;36m<listcomp>\u001b[1;34m(.0)\u001b[0m\n\u001b[0;32m     <a href='vscode-notebook-cell:/c%3A/Users/yousu/OneDrive/Github_Repos/Google-Maps-Scraper/scrapper.ipynb#X52sZmlsZQ%3D%3D?line=20'>21</a>\u001b[0m action\u001b[39m.\u001b[39mmove_to_element(loc_div)\u001b[39m.\u001b[39mperform()\n\u001b[0;32m     <a href='vscode-notebook-cell:/c%3A/Users/yousu/OneDrive/Github_Repos/Google-Maps-Scraper/scrapper.ipynb#X52sZmlsZQ%3D%3D?line=21'>22</a>\u001b[0m loc_boxes \u001b[39m=\u001b[39m driver\u001b[39m.\u001b[39mfind_elements(By\u001b[39m.\u001b[39mCLASS_NAME, LOC_BOX_CLASS)\n\u001b[1;32m---> <a href='vscode-notebook-cell:/c%3A/Users/yousu/OneDrive/Github_Repos/Google-Maps-Scraper/scrapper.ipynb#X52sZmlsZQ%3D%3D?line=22'>23</a>\u001b[0m hrefs \u001b[39m=\u001b[39m [\u001b[39mtuple\u001b[39m([loc_box\u001b[39m.\u001b[39;49mget_attribute(\u001b[39m\"\u001b[39;49m\u001b[39mhref\u001b[39;49m\u001b[39m\"\u001b[39;49m), query]) \u001b[39mfor\u001b[39;00m loc_box \u001b[39min\u001b[39;00m loc_boxes]\n\u001b[0;32m     <a href='vscode-notebook-cell:/c%3A/Users/yousu/OneDrive/Github_Repos/Google-Maps-Scraper/scrapper.ipynb#X52sZmlsZQ%3D%3D?line=23'>24</a>\u001b[0m hrefs_set\u001b[39m.\u001b[39mupdate(hrefs)\n\u001b[0;32m     <a href='vscode-notebook-cell:/c%3A/Users/yousu/OneDrive/Github_Repos/Google-Maps-Scraper/scrapper.ipynb#X52sZmlsZQ%3D%3D?line=24'>25</a>\u001b[0m loc_div\u001b[39m.\u001b[39msend_keys(Keys\u001b[39m.\u001b[39mEND)\n",
      "File \u001b[1;32mc:\\Users\\yousu\\AppData\\Local\\Programs\\Python\\Python310\\lib\\site-packages\\selenium\\webdriver\\remote\\webelement.py:172\u001b[0m, in \u001b[0;36mWebElement.get_attribute\u001b[1;34m(self, name)\u001b[0m\n\u001b[0;32m    170\u001b[0m \u001b[39mif\u001b[39;00m getAttribute_js \u001b[39mis\u001b[39;00m \u001b[39mNone\u001b[39;00m:\n\u001b[0;32m    171\u001b[0m     _load_js()\n\u001b[1;32m--> 172\u001b[0m attribute_value \u001b[39m=\u001b[39m \u001b[39mself\u001b[39;49m\u001b[39m.\u001b[39;49mparent\u001b[39m.\u001b[39;49mexecute_script(\n\u001b[0;32m    173\u001b[0m     \u001b[39m\"\u001b[39;49m\u001b[39mreturn (\u001b[39;49m\u001b[39m%s\u001b[39;49;00m\u001b[39m).apply(null, arguments);\u001b[39;49m\u001b[39m\"\u001b[39;49m \u001b[39m%\u001b[39;49m getAttribute_js,\n\u001b[0;32m    174\u001b[0m     \u001b[39mself\u001b[39;49m, name)\n\u001b[0;32m    175\u001b[0m \u001b[39mreturn\u001b[39;00m attribute_value\n",
      "File \u001b[1;32mc:\\Users\\yousu\\AppData\\Local\\Programs\\Python\\Python310\\lib\\site-packages\\selenium\\webdriver\\remote\\webdriver.py:491\u001b[0m, in \u001b[0;36mWebDriver.execute_script\u001b[1;34m(self, script, *args)\u001b[0m\n\u001b[0;32m    488\u001b[0m converted_args \u001b[39m=\u001b[39m \u001b[39mlist\u001b[39m(args)\n\u001b[0;32m    489\u001b[0m command \u001b[39m=\u001b[39m Command\u001b[39m.\u001b[39mW3C_EXECUTE_SCRIPT\n\u001b[1;32m--> 491\u001b[0m \u001b[39mreturn\u001b[39;00m \u001b[39mself\u001b[39;49m\u001b[39m.\u001b[39;49mexecute(command, {\n\u001b[0;32m    492\u001b[0m     \u001b[39m'\u001b[39;49m\u001b[39mscript\u001b[39;49m\u001b[39m'\u001b[39;49m: script,\n\u001b[0;32m    493\u001b[0m     \u001b[39m'\u001b[39;49m\u001b[39margs\u001b[39;49m\u001b[39m'\u001b[39;49m: converted_args})[\u001b[39m'\u001b[39m\u001b[39mvalue\u001b[39m\u001b[39m'\u001b[39m]\n",
      "File \u001b[1;32mc:\\Users\\yousu\\AppData\\Local\\Programs\\Python\\Python310\\lib\\site-packages\\selenium\\webdriver\\remote\\webdriver.py:428\u001b[0m, in \u001b[0;36mWebDriver.execute\u001b[1;34m(self, driver_command, params)\u001b[0m\n\u001b[0;32m    426\u001b[0m response \u001b[39m=\u001b[39m \u001b[39mself\u001b[39m\u001b[39m.\u001b[39mcommand_executor\u001b[39m.\u001b[39mexecute(driver_command, params)\n\u001b[0;32m    427\u001b[0m \u001b[39mif\u001b[39;00m response:\n\u001b[1;32m--> 428\u001b[0m     \u001b[39mself\u001b[39;49m\u001b[39m.\u001b[39;49merror_handler\u001b[39m.\u001b[39;49mcheck_response(response)\n\u001b[0;32m    429\u001b[0m     response[\u001b[39m'\u001b[39m\u001b[39mvalue\u001b[39m\u001b[39m'\u001b[39m] \u001b[39m=\u001b[39m \u001b[39mself\u001b[39m\u001b[39m.\u001b[39m_unwrap_value(\n\u001b[0;32m    430\u001b[0m         response\u001b[39m.\u001b[39mget(\u001b[39m'\u001b[39m\u001b[39mvalue\u001b[39m\u001b[39m'\u001b[39m, \u001b[39mNone\u001b[39;00m))\n\u001b[0;32m    431\u001b[0m     \u001b[39mreturn\u001b[39;00m response\n",
      "File \u001b[1;32mc:\\Users\\yousu\\AppData\\Local\\Programs\\Python\\Python310\\lib\\site-packages\\selenium\\webdriver\\remote\\errorhandler.py:243\u001b[0m, in \u001b[0;36mErrorHandler.check_response\u001b[1;34m(self, response)\u001b[0m\n\u001b[0;32m    241\u001b[0m         alert_text \u001b[39m=\u001b[39m value[\u001b[39m'\u001b[39m\u001b[39malert\u001b[39m\u001b[39m'\u001b[39m]\u001b[39m.\u001b[39mget(\u001b[39m'\u001b[39m\u001b[39mtext\u001b[39m\u001b[39m'\u001b[39m)\n\u001b[0;32m    242\u001b[0m     \u001b[39mraise\u001b[39;00m exception_class(message, screen, stacktrace, alert_text)  \u001b[39m# type: ignore[call-arg]  # mypy is not smart enough here\u001b[39;00m\n\u001b[1;32m--> 243\u001b[0m \u001b[39mraise\u001b[39;00m exception_class(message, screen, stacktrace)\n",
      "\u001b[1;31mNoSuchWindowException\u001b[0m: Message: no such window: target window already closed\nfrom unknown error: web view not found\n  (Session info: chrome=107.0.5304.88)\nStacktrace:\nBacktrace:\n\tOrdinal0 [0x0022ACD3+2075859]\n\tOrdinal0 [0x001BEE61+1633889]\n\tOrdinal0 [0x000BB7BD+571325]\n\tOrdinal0 [0x000A2E1A+470554]\n\tOrdinal0 [0x0010AA0B+895499]\n\tOrdinal0 [0x0011AC96+961686]\n\tOrdinal0 [0x00107136+880950]\n\tOrdinal0 [0x000DFEFD+720637]\n\tOrdinal0 [0x000E0F3F+724799]\n\tGetHandleVerifier [0x004DEED2+2769538]\n\tGetHandleVerifier [0x004D0D95+2711877]\n\tGetHandleVerifier [0x002BA03A+521194]\n\tGetHandleVerifier [0x002B8DA0+516432]\n\tOrdinal0 [0x001C682C+1665068]\n\tOrdinal0 [0x001CB128+1683752]\n\tOrdinal0 [0x001CB215+1683989]\n\tOrdinal0 [0x001D6484+1729668]\n\tBaseThreadInitThunk [0x75557BA9+25]\n\tRtlInitializeExceptionChain [0x773EBB3B+107]\n\tRtlClearBits [0x773EBABF+191]\n\t(No symbol) [0x00000000]\n"
     ]
    }
   ],
   "source": [
    "hrefs_set = set()\n",
    "\n",
    "last_href = None\n",
    "find_all_elem = False\n",
    "\n",
    "\n",
    "for query in gm_search_keywords:\n",
    "    search_map(query)\n",
    "    print(query)\n",
    "    curr_url = driver.current_url\n",
    "    template_url = curr_url.split(\"@\")[0]\n",
    "    for loc in geo_loc_grid:\n",
    "        lat = loc[0]\n",
    "        long = loc[1]\n",
    "        dynamic_url = f\"{template_url}@{lat},{long},13z/data=!3m1!4b1\"\n",
    "        print(dynamic_url)\n",
    "        driver.get(dynamic_url)\n",
    "        time.sleep(1)\n",
    "        while not find_all_elem:\n",
    "            loc_div = driver.find_element(By.XPATH, LOCATION_BOX_XPATH)\n",
    "            action.move_to_element(loc_div).perform()\n",
    "            loc_boxes = driver.find_elements(By.CLASS_NAME, LOC_BOX_CLASS)\n",
    "            hrefs = [tuple([loc_box.get_attribute(\"href\"), query]) for loc_box in loc_boxes]\n",
    "            hrefs_set.update(hrefs)\n",
    "            loc_div.send_keys(Keys.END)\n",
    "            time.sleep(3)\n",
    "\n",
    "            if(last_href == None):\n",
    "                last_href = hrefs[-1]\n",
    "                continue\n",
    "            \n",
    "            if(last_href == hrefs[-1]):\n",
    "                find_all_elem = True\n",
    "            else:\n",
    "                last_href = hrefs[-1]\n",
    "        find_all_elem = False\n",
    "        time.sleep(3)\n",
    "    time.sleep(5)\n",
    "    \n",
    "len(hrefs_set)"
   ]
  },
  {
   "cell_type": "code",
   "execution_count": null,
   "metadata": {},
   "outputs": [],
   "source": [
    "href_list = list(hrefs_set)\n",
    "href_list.sort()\n",
    "file_name = f\"href_list.txt\"\n",
    "\n",
    "with open(file_name, 'a') as my_file:\n",
    "    for href in href_list:\n",
    "        my_file.write(href)"
   ]
  },
  {
   "cell_type": "markdown",
   "metadata": {},
   "source": [
    "# Extracting data from href"
   ]
  },
  {
   "cell_type": "code",
   "execution_count": null,
   "metadata": {},
   "outputs": [],
   "source": [
    "df = pd.DataFrame()"
   ]
  },
  {
   "cell_type": "markdown",
   "metadata": {},
   "source": [
    "### getting data from each href"
   ]
  },
  {
   "cell_type": "code",
   "execution_count": null,
   "metadata": {},
   "outputs": [],
   "source": [
    "href_list = list()\n",
    "loc_names = list()\n",
    "loc_ratings = list()\n",
    "latitudes = list()\n",
    "longitudes = list()\n",
    "total_ratings = list()\n",
    "query_list = list()"
   ]
  },
  {
   "cell_type": "code",
   "execution_count": null,
   "metadata": {},
   "outputs": [],
   "source": [
    "href_list = list(hrefs_set)\n",
    "href_list.sort()"
   ]
  },
  {
   "cell_type": "markdown",
   "metadata": {},
   "source": [
    "### Getting infro from each href"
   ]
  },
  {
   "cell_type": "code",
   "execution_count": null,
   "metadata": {},
   "outputs": [],
   "source": [
    "for href in href_list:\n",
    "    lat, long = href.split(\"!3d\")[1].split(\"!4d\")\n",
    "    long = long.split(\"!\")[0]\n",
    "    \n",
    "    driver.get(href[0])\n",
    "    query_list.append(href[1])\n",
    "    time.sleep(1)\n",
    "    \n",
    "    check_load = True\n",
    "    refresh_time = 10\n",
    "    while(check_load):\n",
    "        try:\n",
    "            name = driver.find_element(By.XPATH, LOC_NAME_XPATH).text\n",
    "            check_load = False\n",
    "            \n",
    "        except selExcep.NoSuchElementException:\n",
    "            # Ip got blocked, Wait for some time and refresh\n",
    "            time.sleep(refresh_time)\n",
    "            driver.get(href)\n",
    "            time.sleep(1)\n",
    "            print(f\"Refresh time: {refresh_time}\")\n",
    "            refresh_time += 5\n",
    "    \n",
    "    try:\n",
    "        rating = driver.find_element(By.XPATH, LOC_RATING_XPATH).text\n",
    "        rating_count = driver.find_element(By.XPATH, LOC_RATING_COUNT_XPATH).text.split()[0]\n",
    "        rating_count = rating_count.replace(\",\", \"\")\n",
    "        rating_count = int(rating_count)  \n",
    "        \n",
    "    except selExcep.NoSuchElementException:\n",
    "        rating = None\n",
    "        rating_count = None\n",
    "          \n",
    "    loc_names.append(name)\n",
    "    loc_ratings.append(rating)\n",
    "    latitudes.append(lat)\n",
    "    longitudes.append(long)\n",
    "    total_ratings.append(rating_count)\n",
    "    time.sleep(3)\n",
    "    "
   ]
  },
  {
   "cell_type": "code",
   "execution_count": null,
   "metadata": {},
   "outputs": [],
   "source": [
    "df[\"loc_name\"] = loc_names\n",
    "df[\"loc_rating\"] = loc_ratings\n",
    "df[\"total_rating\"] = total_ratings\n",
    "df[\"latitude\"] = latitudes\n",
    "df[\"longitude\"] = longitudes\n",
    "df"
   ]
  },
  {
   "cell_type": "code",
   "execution_count": null,
   "metadata": {},
   "outputs": [],
   "source": [
    "df.to_csv(f'prototype.csv')"
   ]
  },
  {
   "cell_type": "code",
   "execution_count": null,
   "metadata": {},
   "outputs": [],
   "source": []
  }
 ],
 "metadata": {
  "kernelspec": {
   "display_name": "Python 3.10.6 64-bit",
   "language": "python",
   "name": "python3"
  },
  "language_info": {
   "codemirror_mode": {
    "name": "ipython",
    "version": 3
   },
   "file_extension": ".py",
   "mimetype": "text/x-python",
   "name": "python",
   "nbconvert_exporter": "python",
   "pygments_lexer": "ipython3",
   "version": "3.10.6"
  },
  "orig_nbformat": 4,
  "vscode": {
   "interpreter": {
    "hash": "69e417cd3fe9c1c8a76c0f183d8ef3b4a421d52f84359c468d2405ce40a4aa72"
   }
  }
 },
 "nbformat": 4,
 "nbformat_minor": 2
}
