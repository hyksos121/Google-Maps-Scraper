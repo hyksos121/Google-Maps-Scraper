{
 "cells": [
  {
   "cell_type": "code",
   "execution_count": 19,
   "metadata": {},
   "outputs": [],
   "source": [
    "import selenium\n",
    "from selenium import webdriver\n",
    "from selenium.webdriver import Chrome as wdChrome, Firefox as wdFirefox, Edge as wdEdge\n",
    "from selenium.webdriver.common.by import By\n",
    "from selenium.webdriver.common.keys import Keys\n",
    "from selenium.webdriver.chrome.service import Service as ChromeService\n",
    "# from selenium.webdriver.edge.service import Service as EdgeService\n",
    "# from selenium.webdriver.firefox.service import Service as FirefoxService\n",
    "from selenium.webdriver.common.action_chains import ActionChains\n",
    "from selenium.webdriver.support.ui import WebDriverWait\n",
    "from selenium.webdriver.support import expected_conditions as EC\n",
    "import selenium.common.exceptions as selExcep \n",
    "\n",
    "from webdriver_manager.chrome import ChromeDriverManager\n",
    "# from webdriver_manager.firefox import GeckoDriverManager\n",
    "# from webdriver_manager.microsoft import EdgeChromiumDriverManager\n",
    "\n",
    "\n",
    "import pandas as pd\n",
    "import numpy as np\n",
    "import time"
   ]
  },
  {
   "cell_type": "code",
   "execution_count": 20,
   "metadata": {},
   "outputs": [],
   "source": [
    "gm_search_keywords = []\n",
    "with open(\"keywords.txt\") as keywords:\n",
    "    gm_search_keywords = [kw.rstrip() for kw in keywords]\n",
    "    \n",
    "# n = int(len(gm_search_keywords)/4)\n",
    "\n",
    "# #################\n",
    "#                 #\n",
    "# PARTITION = 0   #\n",
    "#                 #\n",
    "# #################\n",
    "\n",
    "# start = n * PARTITION\n",
    "# end = n * (PARTITION + 1)\n",
    "# gm_search_keywords = gm_search_keywords[start:end]"
   ]
  },
  {
   "cell_type": "code",
   "execution_count": 2,
   "metadata": {},
   "outputs": [],
   "source": [
    "home_url = 'https://www.google.com/maps/place/Lahore,+Punjab,+Pakistan/@74.1943055,31.4831569,11z/data=!3m1!4b1!4m5!3m4!1s0x39190483e58107d9:0xc23abe6ccc7e2462!8m2!3d31.5203696!4d74.3587473'\n",
    "driver_type = \"chrome\"\n",
    "service = ChromeService(executable_path = ChromeDriverManager().install())\n",
    "driver = wdChrome(service= service)\n",
    "driver.get(home_url)\n",
    "action = ActionChains(driver)\n",
    "time.sleep(1)"
   ]
  },
  {
   "cell_type": "code",
   "execution_count": 3,
   "metadata": {},
   "outputs": [],
   "source": [
    "MAP_SEARCH_XPATH = '//*[@id=\"searchboxinput\"]'\n",
    "LOCATION_BOX_XPATH = '//*[@id=\"QA0Szd\"]/div/div/div[1]/div[2]/div/div[1]/div/div/div[2]/div[1]'\n",
    "LOC_BOX_CLASS = \"hfpxzc\""
   ]
  },
  {
   "cell_type": "code",
   "execution_count": 4,
   "metadata": {},
   "outputs": [],
   "source": [
    "LOC_NAME_XPATH = '//*[@id=\"QA0Szd\"]/div/div/div[1]/div[2]/div/div[1]/div/div/div[2]/div[1]/div[1]/div[1]/h1'\n",
    "LOC_RATING_XPATH = '//*[@id=\"QA0Szd\"]/div/div/div[1]/div[2]/div/div[1]/div/div/div[2]/div[1]/div[1]/div[2]/div/div[1]/div[2]/span[1]/span/span[1]'\n",
    "LOC_RATING_COUNT_XPATH = '//*[@id=\"QA0Szd\"]/div/div/div[1]/div[2]/div/div[1]/div/div/div[2]/div[1]/div[1]/div[2]/div/div[1]/div[2]/span[2]/span[1]/button'"
   ]
  },
  {
   "cell_type": "code",
   "execution_count": 5,
   "metadata": {},
   "outputs": [],
   "source": [
    "def search_map(query: str) -> None:\n",
    "    map_searchbar = driver.find_element(By.XPATH, MAP_SEARCH_XPATH)\n",
    "    map_searchbar.clear()\n",
    "    map_searchbar.send_keys(query)\n",
    "    map_searchbar.send_keys(Keys.RETURN)"
   ]
  },
  {
   "cell_type": "markdown",
   "metadata": {},
   "source": [
    "### Collecting hrefs from all locations in a radius"
   ]
  },
  {
   "cell_type": "code",
   "execution_count": 14,
   "metadata": {},
   "outputs": [
    {
     "ename": "NameError",
     "evalue": "name 'np' is not defined",
     "output_type": "error",
     "traceback": [
      "\u001b[1;31m---------------------------------------------------------------------------\u001b[0m",
      "\u001b[1;31mNameError\u001b[0m                                 Traceback (most recent call last)",
      "\u001b[1;32mc:\\Users\\yousu\\OneDrive\\Github_Repos\\Google-Maps-Scraper\\scrapper.ipynb Cell 8\u001b[0m in \u001b[0;36m<cell line: 12>\u001b[1;34m()\u001b[0m\n\u001b[0;32m      <a href='vscode-notebook-cell:/c%3A/Users/yousu/OneDrive/Github_Repos/Google-Maps-Scraper/scrapper.ipynb#X10sZmlsZQ%3D%3D?line=8'>9</a>\u001b[0m lat_step \u001b[39m=\u001b[39m (stop_lat \u001b[39m-\u001b[39m start_lat) \u001b[39m/\u001b[39m \u001b[39m5\u001b[39m\n\u001b[0;32m     <a href='vscode-notebook-cell:/c%3A/Users/yousu/OneDrive/Github_Repos/Google-Maps-Scraper/scrapper.ipynb#X10sZmlsZQ%3D%3D?line=9'>10</a>\u001b[0m long_step \u001b[39m=\u001b[39m (stop_long \u001b[39m-\u001b[39m start_long) \u001b[39m/\u001b[39m \u001b[39m5\u001b[39m\n\u001b[1;32m---> <a href='vscode-notebook-cell:/c%3A/Users/yousu/OneDrive/Github_Repos/Google-Maps-Scraper/scrapper.ipynb#X10sZmlsZQ%3D%3D?line=11'>12</a>\u001b[0m lat_dist \u001b[39m=\u001b[39m np\u001b[39m.\u001b[39marange(start\u001b[39m=\u001b[39mstart_lat, stop\u001b[39m=\u001b[39m stop_lat, step\u001b[39m=\u001b[39m lat_step, dtype\u001b[39m=\u001b[39m \u001b[39m\"\u001b[39m\u001b[39mfloat32\u001b[39m\u001b[39m\"\u001b[39m)\n\u001b[0;32m     <a href='vscode-notebook-cell:/c%3A/Users/yousu/OneDrive/Github_Repos/Google-Maps-Scraper/scrapper.ipynb#X10sZmlsZQ%3D%3D?line=12'>13</a>\u001b[0m long_dist \u001b[39m=\u001b[39m np\u001b[39m.\u001b[39marange(start\u001b[39m=\u001b[39mstart_long, stop\u001b[39m=\u001b[39m stop_long, step\u001b[39m=\u001b[39m long_step, dtype\u001b[39m=\u001b[39m \u001b[39m\"\u001b[39m\u001b[39mfloat32\u001b[39m\u001b[39m\"\u001b[39m)\n\u001b[0;32m     <a href='vscode-notebook-cell:/c%3A/Users/yousu/OneDrive/Github_Repos/Google-Maps-Scraper/scrapper.ipynb#X10sZmlsZQ%3D%3D?line=14'>15</a>\u001b[0m geo_loc_grid \u001b[39m=\u001b[39m np\u001b[39m.\u001b[39mtranspose([np\u001b[39m.\u001b[39mtile(lat_dist, \u001b[39mlen\u001b[39m(long_dist)), np\u001b[39m.\u001b[39mrepeat(long_dist, \u001b[39mlen\u001b[39m(lat_dist))])\n",
      "\u001b[1;31mNameError\u001b[0m: name 'np' is not defined"
     ]
    }
   ],
   "source": [
    "## Covers all of lahore\n",
    "\n",
    "start_lat= 31.283179\n",
    "start_long= 74.080275\n",
    "\n",
    "stop_lat = 31.671291\n",
    "stop_long = 74.551132\n",
    "\n",
    "lat_step = (stop_lat - start_lat) / 4\n",
    "long_step = (stop_long - start_long) / 4\n",
    "\n",
    "lat_dist = np.arange(start=start_lat, stop= stop_lat, step= lat_step, dtype= \"float32\")\n",
    "long_dist = np.arange(start=start_long, stop= stop_long, step= long_step, dtype= \"float32\")\n",
    "\n",
    "geo_loc_grid = np.transpose([np.tile(lat_dist, len(long_dist)), np.repeat(long_dist, len(lat_dist))])"
   ]
  },
  {
   "cell_type": "code",
   "execution_count": 11,
   "metadata": {},
   "outputs": [
    {
     "name": "stdout",
     "output_type": "stream",
     "text": [
      "accounting\n",
      "airport\n",
      "amusement_park\n",
      "aquarium\n",
      "art_gallery\n",
      "atm\n",
      "bakery\n",
      "bank\n",
      "bar\n",
      "beauty_salon\n",
      "bicycle_store\n",
      "book_store\n",
      "bowling_alley\n",
      "bus_station\n",
      "cafe\n",
      "campground\n",
      "car_dealer\n",
      "car_rental\n",
      "car_repair\n",
      "car_wash\n",
      "casino\n",
      "cemetery\n",
      "church\n",
      "city_hall\n",
      "clothing_store\n",
      "convenience_store\n",
      "courthouse\n",
      "dentist\n",
      "department_store\n",
      "doctor\n",
      "drugstore\n",
      "electrician\n",
      "electronics_store\n",
      "embassy\n",
      "fire_station\n",
      "florist\n",
      "funeral_home\n",
      "furniture_store\n",
      "gas_station\n",
      "gym\n",
      "hair_care\n",
      "hardware_store\n",
      "hindu_temple\n",
      "home_goods_store\n",
      "hospital\n"
     ]
    },
    {
     "ename": "KeyboardInterrupt",
     "evalue": "",
     "output_type": "error",
     "traceback": [
      "\u001b[1;31m---------------------------------------------------------------------------\u001b[0m",
      "\u001b[1;31mKeyboardInterrupt\u001b[0m                         Traceback (most recent call last)",
      "\u001b[1;32mc:\\Users\\yousu\\OneDrive\\Github_Repos\\Google-Maps-Scraper\\scrapper.ipynb Cell 13\u001b[0m in \u001b[0;36m<cell line: 12>\u001b[1;34m()\u001b[0m\n\u001b[0;32m     <a href='vscode-notebook-cell:/c%3A/Users/yousu/OneDrive/Github_Repos/Google-Maps-Scraper/scrapper.ipynb#X15sZmlsZQ%3D%3D?line=25'>26</a>\u001b[0m hrefs_set\u001b[39m.\u001b[39mupdate(hrefs)\n\u001b[0;32m     <a href='vscode-notebook-cell:/c%3A/Users/yousu/OneDrive/Github_Repos/Google-Maps-Scraper/scrapper.ipynb#X15sZmlsZQ%3D%3D?line=26'>27</a>\u001b[0m loc_div\u001b[39m.\u001b[39msend_keys(Keys\u001b[39m.\u001b[39mEND)\n\u001b[1;32m---> <a href='vscode-notebook-cell:/c%3A/Users/yousu/OneDrive/Github_Repos/Google-Maps-Scraper/scrapper.ipynb#X15sZmlsZQ%3D%3D?line=27'>28</a>\u001b[0m time\u001b[39m.\u001b[39;49msleep(\u001b[39m3\u001b[39;49m)\n\u001b[0;32m     <a href='vscode-notebook-cell:/c%3A/Users/yousu/OneDrive/Github_Repos/Google-Maps-Scraper/scrapper.ipynb#X15sZmlsZQ%3D%3D?line=29'>30</a>\u001b[0m \u001b[39mif\u001b[39;00m(last_href \u001b[39m==\u001b[39m \u001b[39mNone\u001b[39;00m):\n\u001b[0;32m     <a href='vscode-notebook-cell:/c%3A/Users/yousu/OneDrive/Github_Repos/Google-Maps-Scraper/scrapper.ipynb#X15sZmlsZQ%3D%3D?line=30'>31</a>\u001b[0m     last_href \u001b[39m=\u001b[39m hrefs[\u001b[39m-\u001b[39m\u001b[39m1\u001b[39m]\n",
      "\u001b[1;31mKeyboardInterrupt\u001b[0m: "
     ]
    }
   ],
   "source": [
    "hrefs_set = set()\n",
    "\n",
    "last_href = None\n",
    "find_all_elem = False\n",
    "curr_url = driver.current_url\n",
    "template_url = curr_url.split(\"@\")[0]\n",
    "\n",
    "for query in gm_search_keywords:\n",
    "    search_map(query)\n",
    "    print(query)\n",
    "    for loc in geo_loc_grid:\n",
    "        lat = loc[0]\n",
    "        long = loc[1]\n",
    "        dynamic_url = f\"{template_url}@{lat},{long},13z/data=!3m1!4b1\"\n",
    "        driver.get(dynamic_url)\n",
    "        time.sleep(1)\n",
    "        while not find_all_elem:\n",
    "            loc_div = driver.find_element(By.XPATH, LOCATION_BOX_XPATH)\n",
    "            action.move_to_element(loc_div).perform()\n",
    "            loc_boxes = driver.find_elements(By.CLASS_NAME, LOC_BOX_CLASS)\n",
    "            hrefs = [loc_box.get_attribute(\"href\") for loc_box in loc_boxes]\n",
    "            hrefs_set.update(hrefs)\n",
    "            loc_div.send_keys(Keys.END)\n",
    "            time.sleep(3)\n",
    "            \n",
    "            if(last_href == None):\n",
    "                last_href = hrefs[-1]\n",
    "                continue\n",
    "            \n",
    "            if(last_href == hrefs[-1]):\n",
    "                find_all_elem = True\n",
    "            else:\n",
    "                last_href = hrefs[-1]\n",
    "        find_all_elem = False\n",
    "        time.sleep(5)\n",
    "    time.sleep(10)\n",
    "    \n",
    "len(hrefs_set)"
   ]
  },
  {
   "cell_type": "code",
   "execution_count": 18,
   "metadata": {},
   "outputs": [
    {
     "ename": "NameError",
     "evalue": "name 'hrefs_set' is not defined",
     "output_type": "error",
     "traceback": [
      "\u001b[1;31m---------------------------------------------------------------------------\u001b[0m",
      "\u001b[1;31mNameError\u001b[0m                                 Traceback (most recent call last)",
      "\u001b[1;32mc:\\Users\\yousu\\OneDrive\\Github_Repos\\Google-Maps-Scraper\\scrapper.ipynb Cell 10\u001b[0m in \u001b[0;36m<cell line: 1>\u001b[1;34m()\u001b[0m\n\u001b[1;32m----> <a href='vscode-notebook-cell:/c%3A/Users/yousu/OneDrive/Github_Repos/Google-Maps-Scraper/scrapper.ipynb#X44sZmlsZQ%3D%3D?line=0'>1</a>\u001b[0m href_list \u001b[39m=\u001b[39m \u001b[39mlist\u001b[39m(hrefs_set)\n\u001b[0;32m      <a href='vscode-notebook-cell:/c%3A/Users/yousu/OneDrive/Github_Repos/Google-Maps-Scraper/scrapper.ipynb#X44sZmlsZQ%3D%3D?line=1'>2</a>\u001b[0m href_list\u001b[39m.\u001b[39msort()\n\u001b[0;32m      <a href='vscode-notebook-cell:/c%3A/Users/yousu/OneDrive/Github_Repos/Google-Maps-Scraper/scrapper.ipynb#X44sZmlsZQ%3D%3D?line=2'>3</a>\u001b[0m file_name \u001b[39m=\u001b[39m \u001b[39mf\u001b[39m\u001b[39m\"\u001b[39m\u001b[39mhref_list_patition\u001b[39m\u001b[39m{\u001b[39;00mPARTITION\u001b[39m}\u001b[39;00m\u001b[39m.txt\u001b[39m\u001b[39m\"\u001b[39m\n",
      "\u001b[1;31mNameError\u001b[0m: name 'hrefs_set' is not defined"
     ]
    }
   ],
   "source": [
    "href_list = list(hrefs_set)\n",
    "href_list.sort()\n",
    "file_name = f\"href_list.txt\"\n",
    "\n",
    "with open(file_name, 'a') as my_file:\n",
    "    for href in href_list:\n",
    "        my_file.write(href)"
   ]
  },
  {
   "cell_type": "markdown",
   "metadata": {},
   "source": [
    "# Extracting data from href"
   ]
  },
  {
   "cell_type": "code",
   "execution_count": 13,
   "metadata": {},
   "outputs": [],
   "source": [
    "df = pd.DataFrame()"
   ]
  },
  {
   "cell_type": "markdown",
   "metadata": {},
   "source": [
    "### getting data from each href"
   ]
  },
  {
   "cell_type": "code",
   "execution_count": 14,
   "metadata": {},
   "outputs": [],
   "source": [
    "href_list = list()\n",
    "loc_names = list()\n",
    "loc_ratings = list()\n",
    "latitudes = list()\n",
    "longitudes = list()\n",
    "total_ratings = list()\n"
   ]
  },
  {
   "cell_type": "code",
   "execution_count": 15,
   "metadata": {},
   "outputs": [],
   "source": [
    "href_list = list(hrefs_set)\n",
    "href_list.sort()"
   ]
  },
  {
   "cell_type": "markdown",
   "metadata": {},
   "source": [
    "### Getting infro from each href"
   ]
  },
  {
   "cell_type": "code",
   "execution_count": 17,
   "metadata": {},
   "outputs": [
    {
     "ename": "NoSuchElementException",
     "evalue": "Message: no such element: Unable to locate element: {\"method\":\"xpath\",\"selector\":\"//*[@id=\"QA0Szd\"]/div/div/div[1]/div[2]/div/div[1]/div/div/div[2]/div[1]/div[1]/div[1]/h1\"}\n  (Session info: chrome=106.0.5249.119)\nStacktrace:\nBacktrace:\n\tOrdinal0 [0x00261ED3+2236115]\n\tOrdinal0 [0x001F92F1+1807089]\n\tOrdinal0 [0x001066FD+812797]\n\tOrdinal0 [0x001355DF+1005023]\n\tOrdinal0 [0x001357CB+1005515]\n\tOrdinal0 [0x00167632+1209906]\n\tOrdinal0 [0x00151AD4+1120980]\n\tOrdinal0 [0x001659E2+1202658]\n\tOrdinal0 [0x001518A6+1120422]\n\tOrdinal0 [0x0012A73D+960317]\n\tOrdinal0 [0x0012B71F+964383]\n\tGetHandleVerifier [0x0050E7E2+2743074]\n\tGetHandleVerifier [0x005008D4+2685972]\n\tGetHandleVerifier [0x002F2BAA+532202]\n\tGetHandleVerifier [0x002F1990+527568]\n\tOrdinal0 [0x0020080C+1837068]\n\tOrdinal0 [0x00204CD8+1854680]\n\tOrdinal0 [0x00204DC5+1854917]\n\tOrdinal0 [0x0020ED64+1895780]\n\tBaseThreadInitThunk [0x75557BA9+25]\n\tRtlInitializeExceptionChain [0x773EBB3B+107]\n\tRtlClearBits [0x773EBABF+191]\n\t(No symbol) [0x00000000]\n",
     "output_type": "error",
     "traceback": [
      "\u001b[1;31m---------------------------------------------------------------------------\u001b[0m",
      "\u001b[1;31mNoSuchElementException\u001b[0m                    Traceback (most recent call last)",
      "\u001b[1;32mc:\\Users\\yousu\\OneDrive\\Github_Repos\\Google-Maps-Scraper\\scrapper.ipynb Cell 21\u001b[0m in \u001b[0;36m<cell line: 1>\u001b[1;34m()\u001b[0m\n\u001b[0;32m      <a href='vscode-notebook-cell:/c%3A/Users/yousu/OneDrive/Github_Repos/Google-Maps-Scraper/scrapper.ipynb#X26sZmlsZQ%3D%3D?line=4'>5</a>\u001b[0m driver\u001b[39m.\u001b[39mget(href)\n\u001b[0;32m      <a href='vscode-notebook-cell:/c%3A/Users/yousu/OneDrive/Github_Repos/Google-Maps-Scraper/scrapper.ipynb#X26sZmlsZQ%3D%3D?line=5'>6</a>\u001b[0m time\u001b[39m.\u001b[39msleep(\u001b[39m1\u001b[39m)\n\u001b[1;32m----> <a href='vscode-notebook-cell:/c%3A/Users/yousu/OneDrive/Github_Repos/Google-Maps-Scraper/scrapper.ipynb#X26sZmlsZQ%3D%3D?line=7'>8</a>\u001b[0m name \u001b[39m=\u001b[39m driver\u001b[39m.\u001b[39;49mfind_element(By\u001b[39m.\u001b[39;49mXPATH, LOC_NAME_XPATH)\u001b[39m.\u001b[39mtext\n\u001b[0;32m     <a href='vscode-notebook-cell:/c%3A/Users/yousu/OneDrive/Github_Repos/Google-Maps-Scraper/scrapper.ipynb#X26sZmlsZQ%3D%3D?line=9'>10</a>\u001b[0m \u001b[39mtry\u001b[39;00m:\n\u001b[0;32m     <a href='vscode-notebook-cell:/c%3A/Users/yousu/OneDrive/Github_Repos/Google-Maps-Scraper/scrapper.ipynb#X26sZmlsZQ%3D%3D?line=10'>11</a>\u001b[0m     rating \u001b[39m=\u001b[39m driver\u001b[39m.\u001b[39mfind_element(By\u001b[39m.\u001b[39mXPATH, LOC_RATING_XPATH)\u001b[39m.\u001b[39mtext\n",
      "File \u001b[1;32mc:\\Users\\yousu\\AppData\\Local\\Programs\\Python\\Python310\\lib\\site-packages\\selenium\\webdriver\\remote\\webdriver.py:855\u001b[0m, in \u001b[0;36mWebDriver.find_element\u001b[1;34m(self, by, value)\u001b[0m\n\u001b[0;32m    852\u001b[0m     by \u001b[39m=\u001b[39m By\u001b[39m.\u001b[39mCSS_SELECTOR\n\u001b[0;32m    853\u001b[0m     value \u001b[39m=\u001b[39m \u001b[39m'\u001b[39m\u001b[39m[name=\u001b[39m\u001b[39m\"\u001b[39m\u001b[39m%s\u001b[39;00m\u001b[39m\"\u001b[39m\u001b[39m]\u001b[39m\u001b[39m'\u001b[39m \u001b[39m%\u001b[39m value\n\u001b[1;32m--> 855\u001b[0m \u001b[39mreturn\u001b[39;00m \u001b[39mself\u001b[39;49m\u001b[39m.\u001b[39;49mexecute(Command\u001b[39m.\u001b[39;49mFIND_ELEMENT, {\n\u001b[0;32m    856\u001b[0m     \u001b[39m'\u001b[39;49m\u001b[39musing\u001b[39;49m\u001b[39m'\u001b[39;49m: by,\n\u001b[0;32m    857\u001b[0m     \u001b[39m'\u001b[39;49m\u001b[39mvalue\u001b[39;49m\u001b[39m'\u001b[39;49m: value})[\u001b[39m'\u001b[39m\u001b[39mvalue\u001b[39m\u001b[39m'\u001b[39m]\n",
      "File \u001b[1;32mc:\\Users\\yousu\\AppData\\Local\\Programs\\Python\\Python310\\lib\\site-packages\\selenium\\webdriver\\remote\\webdriver.py:428\u001b[0m, in \u001b[0;36mWebDriver.execute\u001b[1;34m(self, driver_command, params)\u001b[0m\n\u001b[0;32m    426\u001b[0m response \u001b[39m=\u001b[39m \u001b[39mself\u001b[39m\u001b[39m.\u001b[39mcommand_executor\u001b[39m.\u001b[39mexecute(driver_command, params)\n\u001b[0;32m    427\u001b[0m \u001b[39mif\u001b[39;00m response:\n\u001b[1;32m--> 428\u001b[0m     \u001b[39mself\u001b[39;49m\u001b[39m.\u001b[39;49merror_handler\u001b[39m.\u001b[39;49mcheck_response(response)\n\u001b[0;32m    429\u001b[0m     response[\u001b[39m'\u001b[39m\u001b[39mvalue\u001b[39m\u001b[39m'\u001b[39m] \u001b[39m=\u001b[39m \u001b[39mself\u001b[39m\u001b[39m.\u001b[39m_unwrap_value(\n\u001b[0;32m    430\u001b[0m         response\u001b[39m.\u001b[39mget(\u001b[39m'\u001b[39m\u001b[39mvalue\u001b[39m\u001b[39m'\u001b[39m, \u001b[39mNone\u001b[39;00m))\n\u001b[0;32m    431\u001b[0m     \u001b[39mreturn\u001b[39;00m response\n",
      "File \u001b[1;32mc:\\Users\\yousu\\AppData\\Local\\Programs\\Python\\Python310\\lib\\site-packages\\selenium\\webdriver\\remote\\errorhandler.py:243\u001b[0m, in \u001b[0;36mErrorHandler.check_response\u001b[1;34m(self, response)\u001b[0m\n\u001b[0;32m    241\u001b[0m         alert_text \u001b[39m=\u001b[39m value[\u001b[39m'\u001b[39m\u001b[39malert\u001b[39m\u001b[39m'\u001b[39m]\u001b[39m.\u001b[39mget(\u001b[39m'\u001b[39m\u001b[39mtext\u001b[39m\u001b[39m'\u001b[39m)\n\u001b[0;32m    242\u001b[0m     \u001b[39mraise\u001b[39;00m exception_class(message, screen, stacktrace, alert_text)  \u001b[39m# type: ignore[call-arg]  # mypy is not smart enough here\u001b[39;00m\n\u001b[1;32m--> 243\u001b[0m \u001b[39mraise\u001b[39;00m exception_class(message, screen, stacktrace)\n",
      "\u001b[1;31mNoSuchElementException\u001b[0m: Message: no such element: Unable to locate element: {\"method\":\"xpath\",\"selector\":\"//*[@id=\"QA0Szd\"]/div/div/div[1]/div[2]/div/div[1]/div/div/div[2]/div[1]/div[1]/div[1]/h1\"}\n  (Session info: chrome=106.0.5249.119)\nStacktrace:\nBacktrace:\n\tOrdinal0 [0x00261ED3+2236115]\n\tOrdinal0 [0x001F92F1+1807089]\n\tOrdinal0 [0x001066FD+812797]\n\tOrdinal0 [0x001355DF+1005023]\n\tOrdinal0 [0x001357CB+1005515]\n\tOrdinal0 [0x00167632+1209906]\n\tOrdinal0 [0x00151AD4+1120980]\n\tOrdinal0 [0x001659E2+1202658]\n\tOrdinal0 [0x001518A6+1120422]\n\tOrdinal0 [0x0012A73D+960317]\n\tOrdinal0 [0x0012B71F+964383]\n\tGetHandleVerifier [0x0050E7E2+2743074]\n\tGetHandleVerifier [0x005008D4+2685972]\n\tGetHandleVerifier [0x002F2BAA+532202]\n\tGetHandleVerifier [0x002F1990+527568]\n\tOrdinal0 [0x0020080C+1837068]\n\tOrdinal0 [0x00204CD8+1854680]\n\tOrdinal0 [0x00204DC5+1854917]\n\tOrdinal0 [0x0020ED64+1895780]\n\tBaseThreadInitThunk [0x75557BA9+25]\n\tRtlInitializeExceptionChain [0x773EBB3B+107]\n\tRtlClearBits [0x773EBABF+191]\n\t(No symbol) [0x00000000]\n"
     ]
    }
   ],
   "source": [
    "for href in href_list:\n",
    "    lat, long = href.split(\"!3d\")[1].split(\"!4d\")\n",
    "    long = long.split(\"!\")[0]\n",
    "    \n",
    "    driver.get(href)\n",
    "    time.sleep(1)\n",
    "    \n",
    "    check_load = True\n",
    "    refresh_time = 10\n",
    "    while(check_load):\n",
    "        try:\n",
    "            name = driver.find_element(By.XPATH, LOC_NAME_XPATH).text\n",
    "            check_load = False\n",
    "            \n",
    "        except selExcep.NoSuchElementException:\n",
    "            # Ip got blocked, Wait for some time and refresh\n",
    "            time.sleep(refresh_time)\n",
    "            driver.get(href)\n",
    "            time.sleep(1)\n",
    "            refresh_time += 5\n",
    "    \n",
    "    try:\n",
    "        rating = driver.find_element(By.XPATH, LOC_RATING_XPATH).text\n",
    "        rating_count = driver.find_element(By.XPATH, LOC_RATING_COUNT_XPATH).text.split()[0]\n",
    "        rating_count = rating_count.replace(\",\", \"\")\n",
    "        rating_count = int(rating_count)  \n",
    "        \n",
    "    except selExcep.NoSuchElementException:\n",
    "        rating = None\n",
    "        rating_count = None\n",
    "          \n",
    "    loc_names.append(name)\n",
    "    loc_ratings.append(rating)\n",
    "    latitudes.append(lat)\n",
    "    longitudes.append(long)\n",
    "    total_ratings.append(rating_count)\n",
    "    time.sleep(3)\n",
    "    "
   ]
  },
  {
   "cell_type": "code",
   "execution_count": 18,
   "metadata": {},
   "outputs": [
    {
     "data": {
      "text/html": [
       "<div>\n",
       "<style scoped>\n",
       "    .dataframe tbody tr th:only-of-type {\n",
       "        vertical-align: middle;\n",
       "    }\n",
       "\n",
       "    .dataframe tbody tr th {\n",
       "        vertical-align: top;\n",
       "    }\n",
       "\n",
       "    .dataframe thead th {\n",
       "        text-align: right;\n",
       "    }\n",
       "</style>\n",
       "<table border=\"1\" class=\"dataframe\">\n",
       "  <thead>\n",
       "    <tr style=\"text-align: right;\">\n",
       "      <th></th>\n",
       "      <th>loc_name</th>\n",
       "      <th>loc_rating</th>\n",
       "      <th>total_rating</th>\n",
       "      <th>latitude</th>\n",
       "      <th>longitude</th>\n",
       "    </tr>\n",
       "  </thead>\n",
       "  <tbody>\n",
       "    <tr>\n",
       "      <th>0</th>\n",
       "      <td>المدینہ کاکاخیل فیملی ریسٹورنٹ</td>\n",
       "      <td>4.5</td>\n",
       "      <td>2.0</td>\n",
       "      <td>31.403337</td>\n",
       "      <td>74.1584129</td>\n",
       "    </tr>\n",
       "    <tr>\n",
       "      <th>1</th>\n",
       "      <td>امین مرغ چنے نان شاپ المدینہ ریسٹورینٹ</td>\n",
       "      <td>5.0</td>\n",
       "      <td>5.0</td>\n",
       "      <td>31.2511973</td>\n",
       "      <td>74.4204402</td>\n",
       "    </tr>\n",
       "    <tr>\n",
       "      <th>2</th>\n",
       "      <td>المدینہ کاکاخیل فیملی ریسٹورنٹ</td>\n",
       "      <td>4.5</td>\n",
       "      <td>2.0</td>\n",
       "      <td>31.403337</td>\n",
       "      <td>74.1584129</td>\n",
       "    </tr>\n",
       "    <tr>\n",
       "      <th>3</th>\n",
       "      <td>امین مرغ چنے نان شاپ المدینہ ریسٹورینٹ</td>\n",
       "      <td>5.0</td>\n",
       "      <td>5.0</td>\n",
       "      <td>31.2511973</td>\n",
       "      <td>74.4204402</td>\n",
       "    </tr>\n",
       "    <tr>\n",
       "      <th>4</th>\n",
       "      <td>سروانی رحمکاریہ ہوٹل</td>\n",
       "      <td>3.4</td>\n",
       "      <td>10.0</td>\n",
       "      <td>31.3299377</td>\n",
       "      <td>74.1096191</td>\n",
       "    </tr>\n",
       "    <tr>\n",
       "      <th>...</th>\n",
       "      <td>...</td>\n",
       "      <td>...</td>\n",
       "      <td>...</td>\n",
       "      <td>...</td>\n",
       "      <td>...</td>\n",
       "    </tr>\n",
       "    <tr>\n",
       "      <th>692</th>\n",
       "      <td>Nafees Food</td>\n",
       "      <td>4.0</td>\n",
       "      <td>2.0</td>\n",
       "      <td>31.4650609</td>\n",
       "      <td>74.1036243</td>\n",
       "    </tr>\n",
       "    <tr>\n",
       "      <th>693</th>\n",
       "      <td>Namak family Restaurant</td>\n",
       "      <td>4.1</td>\n",
       "      <td>3056.0</td>\n",
       "      <td>31.4664412</td>\n",
       "      <td>74.3107433</td>\n",
       "    </tr>\n",
       "    <tr>\n",
       "      <th>694</th>\n",
       "      <td>Namir's Restaurant &amp; Wine Bar</td>\n",
       "      <td>4.7</td>\n",
       "      <td>176.0</td>\n",
       "      <td>52.5113388</td>\n",
       "      <td>-9.6730739</td>\n",
       "    </tr>\n",
       "    <tr>\n",
       "      <th>695</th>\n",
       "      <td>Nando's DHA Block Z</td>\n",
       "      <td>4.2</td>\n",
       "      <td>1460.0</td>\n",
       "      <td>31.4749839</td>\n",
       "      <td>74.3786145</td>\n",
       "    </tr>\n",
       "    <tr>\n",
       "      <th>696</th>\n",
       "      <td>Napoli Restaurant</td>\n",
       "      <td>4.2</td>\n",
       "      <td>406.0</td>\n",
       "      <td>31.4629808</td>\n",
       "      <td>74.4158044</td>\n",
       "    </tr>\n",
       "  </tbody>\n",
       "</table>\n",
       "<p>697 rows × 5 columns</p>\n",
       "</div>"
      ],
      "text/plain": [
       "                                   loc_name loc_rating  total_rating  \\\n",
       "0            المدینہ کاکاخیل فیملی ریسٹورنٹ        4.5           2.0   \n",
       "1    امین مرغ چنے نان شاپ المدینہ ریسٹورینٹ        5.0           5.0   \n",
       "2            المدینہ کاکاخیل فیملی ریسٹورنٹ        4.5           2.0   \n",
       "3    امین مرغ چنے نان شاپ المدینہ ریسٹورینٹ        5.0           5.0   \n",
       "4                      سروانی رحمکاریہ ہوٹل        3.4          10.0   \n",
       "..                                      ...        ...           ...   \n",
       "692                             Nafees Food        4.0           2.0   \n",
       "693                 Namak family Restaurant        4.1        3056.0   \n",
       "694           Namir's Restaurant & Wine Bar        4.7         176.0   \n",
       "695                     Nando's DHA Block Z        4.2        1460.0   \n",
       "696                       Napoli Restaurant        4.2         406.0   \n",
       "\n",
       "       latitude   longitude  \n",
       "0     31.403337  74.1584129  \n",
       "1    31.2511973  74.4204402  \n",
       "2     31.403337  74.1584129  \n",
       "3    31.2511973  74.4204402  \n",
       "4    31.3299377  74.1096191  \n",
       "..          ...         ...  \n",
       "692  31.4650609  74.1036243  \n",
       "693  31.4664412  74.3107433  \n",
       "694  52.5113388  -9.6730739  \n",
       "695  31.4749839  74.3786145  \n",
       "696  31.4629808  74.4158044  \n",
       "\n",
       "[697 rows x 5 columns]"
      ]
     },
     "execution_count": 18,
     "metadata": {},
     "output_type": "execute_result"
    }
   ],
   "source": [
    "df[\"loc_name\"] = loc_names\n",
    "df[\"loc_rating\"] = loc_ratings\n",
    "df[\"total_rating\"] = total_ratings\n",
    "df[\"latitude\"] = latitudes\n",
    "df[\"longitude\"] = longitudes\n",
    "df"
   ]
  },
  {
   "cell_type": "code",
   "execution_count": null,
   "metadata": {},
   "outputs": [],
   "source": [
    "df.to_csv(f'prototype.csv')"
   ]
  },
  {
   "cell_type": "code",
   "execution_count": null,
   "metadata": {},
   "outputs": [],
   "source": []
  }
 ],
 "metadata": {
  "kernelspec": {
   "display_name": "Python 3.10.6 64-bit",
   "language": "python",
   "name": "python3"
  },
  "language_info": {
   "codemirror_mode": {
    "name": "ipython",
    "version": 3
   },
   "file_extension": ".py",
   "mimetype": "text/x-python",
   "name": "python",
   "nbconvert_exporter": "python",
   "pygments_lexer": "ipython3",
   "version": "3.10.6"
  },
  "orig_nbformat": 4,
  "vscode": {
   "interpreter": {
    "hash": "69e417cd3fe9c1c8a76c0f183d8ef3b4a421d52f84359c468d2405ce40a4aa72"
   }
  }
 },
 "nbformat": 4,
 "nbformat_minor": 2
}
