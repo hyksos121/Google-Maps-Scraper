{
 "cells": [
  {
   "cell_type": "code",
   "execution_count": 1,
   "metadata": {},
   "outputs": [],
   "source": [
    "import numpy as np\n",
    "import pandas as pd\n",
    "import matplotlib.pyplot as plt"
   ]
  },
  {
   "cell_type": "code",
   "execution_count": 18,
   "metadata": {},
   "outputs": [
    {
     "ename": "AttributeError",
     "evalue": "'function' object has no attribute 'str'",
     "output_type": "error",
     "traceback": [
      "\u001b[1;31m---------------------------------------------------------------------------\u001b[0m",
      "\u001b[1;31mAttributeError\u001b[0m                            Traceback (most recent call last)",
      "\u001b[1;32mc:\\Users\\yousu\\OneDrive\\Github_Repos\\Google-Maps-Scraper\\visualization.ipynb Cell 2\u001b[0m in \u001b[0;36m<cell line: 3>\u001b[1;34m()\u001b[0m\n\u001b[0;32m      <a href='vscode-notebook-cell:/c%3A/Users/yousu/OneDrive/Github_Repos/Google-Maps-Scraper/visualization.ipynb#W3sZmlsZQ%3D%3D?line=0'>1</a>\u001b[0m df \u001b[39m=\u001b[39m pd\u001b[39m.\u001b[39mread_csv(\u001b[39m\"\u001b[39m\u001b[39mfinal_set_V1.csv\u001b[39m\u001b[39m\"\u001b[39m)\n\u001b[0;32m      <a href='vscode-notebook-cell:/c%3A/Users/yousu/OneDrive/Github_Repos/Google-Maps-Scraper/visualization.ipynb#W3sZmlsZQ%3D%3D?line=1'>2</a>\u001b[0m \u001b[39mdel\u001b[39;00m df[\u001b[39m\"\u001b[39m\u001b[39mUnnamed: 0\u001b[39m\u001b[39m\"\u001b[39m]\n\u001b[1;32m----> <a href='vscode-notebook-cell:/c%3A/Users/yousu/OneDrive/Github_Repos/Google-Maps-Scraper/visualization.ipynb#W3sZmlsZQ%3D%3D?line=2'>3</a>\u001b[0m df\u001b[39m.\u001b[39;49mquery\u001b[39m.\u001b[39;49mstr\u001b[39m.\u001b[39mreplace()\n",
      "\u001b[1;31mAttributeError\u001b[0m: 'function' object has no attribute 'str'"
     ]
    }
   ],
   "source": [
    "df = pd.read_csv(\"final_set_V1.csv\")\n",
    "del df[\"Unnamed: 0\"]\n",
    "df.query = df.query.apply(lambda x: x.replace(\"'\",''))"
   ]
  },
  {
   "cell_type": "code",
   "execution_count": 12,
   "metadata": {},
   "outputs": [
    {
     "name": "stdout",
     "output_type": "stream",
     "text": [
      "<class 'pandas.core.frame.DataFrame'>\n",
      "RangeIndex: 17998 entries, 0 to 17997\n",
      "Data columns (total 6 columns):\n",
      " #   Column        Non-Null Count  Dtype  \n",
      "---  ------        --------------  -----  \n",
      " 0   loc_name      17974 non-null  object \n",
      " 1   loc_rating    13739 non-null  float64\n",
      " 2   total_rating  13739 non-null  float64\n",
      " 3   latitude      17998 non-null  float64\n",
      " 4   longitude     17998 non-null  float64\n",
      " 5   query         17998 non-null  object \n",
      "dtypes: float64(4), object(2)\n",
      "memory usage: 843.8+ KB\n"
     ]
    }
   ],
   "source": [
    "df.info()"
   ]
  },
  {
   "cell_type": "code",
   "execution_count": 13,
   "metadata": {},
   "outputs": [
    {
     "data": {
      "text/html": [
       "<div>\n",
       "<style scoped>\n",
       "    .dataframe tbody tr th:only-of-type {\n",
       "        vertical-align: middle;\n",
       "    }\n",
       "\n",
       "    .dataframe tbody tr th {\n",
       "        vertical-align: top;\n",
       "    }\n",
       "\n",
       "    .dataframe thead th {\n",
       "        text-align: right;\n",
       "    }\n",
       "</style>\n",
       "<table border=\"1\" class=\"dataframe\">\n",
       "  <thead>\n",
       "    <tr style=\"text-align: right;\">\n",
       "      <th></th>\n",
       "      <th>loc_rating</th>\n",
       "      <th>total_rating</th>\n",
       "      <th>latitude</th>\n",
       "      <th>longitude</th>\n",
       "    </tr>\n",
       "  </thead>\n",
       "  <tbody>\n",
       "    <tr>\n",
       "      <th>count</th>\n",
       "      <td>13739.000000</td>\n",
       "      <td>13739.000000</td>\n",
       "      <td>17998.000000</td>\n",
       "      <td>17998.000000</td>\n",
       "    </tr>\n",
       "    <tr>\n",
       "      <th>mean</th>\n",
       "      <td>4.374678</td>\n",
       "      <td>168.078244</td>\n",
       "      <td>31.519257</td>\n",
       "      <td>73.830777</td>\n",
       "    </tr>\n",
       "    <tr>\n",
       "      <th>std</th>\n",
       "      <td>0.711408</td>\n",
       "      <td>1497.374549</td>\n",
       "      <td>1.437317</td>\n",
       "      <td>7.409411</td>\n",
       "    </tr>\n",
       "    <tr>\n",
       "      <th>min</th>\n",
       "      <td>1.000000</td>\n",
       "      <td>1.000000</td>\n",
       "      <td>-32.040064</td>\n",
       "      <td>-126.038298</td>\n",
       "    </tr>\n",
       "    <tr>\n",
       "      <th>25%</th>\n",
       "      <td>4.000000</td>\n",
       "      <td>2.000000</td>\n",
       "      <td>31.402912</td>\n",
       "      <td>74.241624</td>\n",
       "    </tr>\n",
       "    <tr>\n",
       "      <th>50%</th>\n",
       "      <td>4.500000</td>\n",
       "      <td>7.000000</td>\n",
       "      <td>31.469443</td>\n",
       "      <td>74.304271</td>\n",
       "    </tr>\n",
       "    <tr>\n",
       "      <th>75%</th>\n",
       "      <td>5.000000</td>\n",
       "      <td>32.000000</td>\n",
       "      <td>31.532886</td>\n",
       "      <td>74.359774</td>\n",
       "    </tr>\n",
       "    <tr>\n",
       "      <th>max</th>\n",
       "      <td>5.000000</td>\n",
       "      <td>59571.000000</td>\n",
       "      <td>59.924713</td>\n",
       "      <td>176.993778</td>\n",
       "    </tr>\n",
       "  </tbody>\n",
       "</table>\n",
       "</div>"
      ],
      "text/plain": [
       "         loc_rating  total_rating      latitude     longitude\n",
       "count  13739.000000  13739.000000  17998.000000  17998.000000\n",
       "mean       4.374678    168.078244     31.519257     73.830777\n",
       "std        0.711408   1497.374549      1.437317      7.409411\n",
       "min        1.000000      1.000000    -32.040064   -126.038298\n",
       "25%        4.000000      2.000000     31.402912     74.241624\n",
       "50%        4.500000      7.000000     31.469443     74.304271\n",
       "75%        5.000000     32.000000     31.532886     74.359774\n",
       "max        5.000000  59571.000000     59.924713    176.993778"
      ]
     },
     "execution_count": 13,
     "metadata": {},
     "output_type": "execute_result"
    }
   ],
   "source": [
    "df.describe()"
   ]
  },
  {
   "cell_type": "code",
   "execution_count": 15,
   "metadata": {},
   "outputs": [
    {
     "data": {
      "text/plain": [
       "<matplotlib.collections.PathCollection at 0x1dc469b1600>"
      ]
     },
     "execution_count": 15,
     "metadata": {},
     "output_type": "execute_result"
    },
    {
     "data": {
      "image/png": "[encoded data removed]",
      "text/plain": [
       "<Figure size 432x288 with 1 Axes>"
      ]
     },
     "metadata": {
      "needs_background": "light"
     },
     "output_type": "display_data"
    }
   ],
   "source": [
    "df."
   ]
  },
  {
   "cell_type": "code",
   "execution_count": null,
   "metadata": {},
   "outputs": [],
   "source": []
  }
 ],
 "metadata": {
  "kernelspec": {
   "display_name": "Python 3.10.6 64-bit",
   "language": "python",
   "name": "python3"
  },
  "language_info": {
   "codemirror_mode": {
    "name": "ipython",
    "version": 3
   },
   "file_extension": ".py",
   "mimetype": "text/x-python",
   "name": "python",
   "nbconvert_exporter": "python",
   "pygments_lexer": "ipython3",
   "version": "3.10.6"
  },
  "orig_nbformat": 4,
  "vscode": {
   "interpreter": {
    "hash": "69e417cd3fe9c1c8a76c0f183d8ef3b4a421d52f84359c468d2405ce40a4aa72"
   }
  }
 },
 "nbformat": 4,
 "nbformat_minor": 2
}
